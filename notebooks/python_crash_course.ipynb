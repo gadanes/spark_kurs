{
 "cells": [
  {
   "cell_type": "raw",
   "id": "32a524c4-04a3-46d2-bcdc-1190e412be71",
   "metadata": {},
   "source": [
    "%timeit sum([i for i in range(1000)])"
   ]
  },
  {
   "cell_type": "code",
   "execution_count": 11,
   "id": "35b2e8d5-ccf3-4e6c-8116-97ccfe480916",
   "metadata": {},
   "outputs": [
    {
     "name": "stdout",
     "output_type": "stream",
     "text": [
      "57.5 µs ± 4.55 µs per loop (mean ± std. dev. of 7 runs, 10,000 loops each)\n"
     ]
    }
   ],
   "source": [
    "%timeit sum([i for i in range(1000)])"
   ]
  },
  {
   "cell_type": "code",
   "execution_count": null,
   "id": "581c948f-b390-4d96-acc0-a1058610ec28",
   "metadata": {},
   "outputs": [],
   "source": []
  },
  {
   "cell_type": "markdown",
   "id": "397693f0-023a-4439-8cbe-6d88afd9896a",
   "metadata": {},
   "source": [
    "# Python Crash Course"
   ]
  },
  {
   "cell_type": "markdown",
   "id": "40decff0-dbd3-454d-9505-7b38e4174622",
   "metadata": {},
   "source": [
    "\r\n",
    "\r\n",
    "### 🧠 Technische Einführung in Jupyter Notebook\r\n",
    "\r\n",
    "#### ⚙️ Was ist Jupyter?\r\n",
    "\r\n",
    "Ein webbasierter **Notebook-Editor**, mit dem man **Python-Code ausführen**, **Markdown schreiben**, und **Visualisierungen interaktiv darstellen** kann.\r\n",
    "Unterstützt viele Sprachen über sog. *Kernels* (z. B. `ipykernel` für Python).\r\n",
    "\r\n",
    "---\r\n",
    "\r\n",
    "#### 💡 Warum Jupyter?\r\n",
    "\r\n",
    "| Vorteil               | Beschreibung                                                      |\r\n",
    "| --------------------- | ----------------------------------------------------------------- |\r\n",
    "| 🔁 Reproduzierbarkeit | Code, Output & Erklärung im selben Dokument                       |\r\n",
    "| 🧪 Experimentieren    | Änderungen an einzelnen Zellen ohne Neustart des gesamten Skripts |\r\n",
    "| 📊 Visualisierung     | Direktes Plotting mit `matplotlib`, `seaborn`, `plotly`, etc.     |\r\n",
    "| 📚 Dokumentation      | Unterstützung für Markdown, LaTeX, Code-Kommentare                |\r\n",
    "\r\n",
    "---\r\n",
    "\r\n",
    "#### ⌨️ Wichtige Shortcuts\r\n",
    "\r\n",
    "| Modus            | Taste           | Funktion                                 |\r\n",
    "| ---------------- | --------------- | ---------------------------------------- |\r\n",
    "| **Edit Mode**    | `Enter`         | Zelle bearbeiten                         |\r\n",
    "| **Command Mode** | `Esc`           | Zelle auswählen (blau)                   |\r\n",
    "|                  | `A`             | Zelle **oberhalb** einfügen              |\r\n",
    "|                  | `B`             | Zelle **unterhalb** einfügen             |\r\n",
    "|                  | `D, D`          | Zelle löschen                            |\r\n",
    "|                  | `M`             | Zelle in **Markdown** umwandeln          |\r\n",
    "|                  | `Y`             | Zelle in **Code** umwandeln              |\r\n",
    "|                  | `Shift + Enter` | Zelle ausführen + nächste auswählen      |\r\n",
    "|                  | `Ctrl + Enter`  | Zelle ausführen, Auswahl behalten        |\r\n",
    "|                  | `Alt + Enter`   | Zelle ausführen + neue darunter einfügen |\r\n",
    "\r\n",
    "---\r\n",
    "\r\n",
    "#### 🧪 Nützliche Magic-Commands\r\n",
    "\r\n",
    "| Befehl               | Zweck                                |\r\n",
    "| -------------------- | ------------------------------------ |\r\n",
    "| `%timeit`            | Zeitmessung einer Anweisung          |\r\n",
    "| `%who` / `%whos`     | Zeigt aktuell definierte Variablen   |\r\n",
    "| `%matplotlib inline` | Plots direkt im Notebook anzeigen    |\r\n",
    "| `%%time`             | Gesamtzeit einer ganzen Zelle messen |\r\n",
    "| `%debug`             | Nach Fehler interaktiver Debug-Modus |\r\n",
    "\r\n",
    "---\r\n",
    "\r\n",
    "#### 🧰 Beispiel-Workflow in Data Engineering\r\n",
    "\r\n",
    "```python\r\n",
    "# 1. Daten lesen\r\n",
    "import pandas as pd\r\n",
    "df = pd.read_csv(\"data.csv\")\r\n",
    "\r\n",
    "# 2. Übersicht anzeigen\r\n",
    "df.info()\r\n",
    "\r\n",
    "# 3. Plot erzeugen\r\n",
    "import avon eine PDF, eine Folienversion, oder das Ganze als Jupyter Notebook?\r\n"
   ]
  },
  {
   "cell_type": "markdown",
   "id": "1ac07533-d1bf-4891-bb04-ca4f7e40d980",
   "metadata": {},
   "source": [
    "---\n",
    "---\n",
    "---"
   ]
  },
  {
   "cell_type": "markdown",
   "id": "1f5a0792-1c43-413a-bfd5-641a7a2a7fc0",
   "metadata": {},
   "source": [
    "Hier ist eine kleine **2-Minuten-Übung** \n",
    "\r\n",
    "---\r\n",
    "\r",
    "#\n",
    "### ⏱️ 2-Minuten-Challenge: Erste Schritte im Notebook\r\n",
    "\r\n",
    "> Ziel: Tastenkürzel testen, Markdown & Code mischen, Plot erzeugen\r\n",
    "\r\n",
    "#### 🧪 Aufgabe\r\n",
    "\r\n",
    "1. **Füge eine neue Zelle ein** (Shortcut: `B`)\r\n",
    "2. **Wechsle zu Markdown-Modus** (`M`) und schreibe eine Überschrift:\r\n",
    "\r\n",
    "   ```markdown\r\n",
    "   ## Mein erstes Notebook 🚀\r\n",
    "   ```\r\n",
    "3. **Füge darunter eine Code-Zelle ein** (`B` → `Y`) und führe folgenden Code aus:\r\n",
    "\r\n",
    "   ```python\r\n",
    "   import matplotlib.pyplot as plt\r\n",
    "   plt.plot([1, 4, 2, 5, 3])\r\n",
    "   plt.title(\"Mini-Testplot\")\r\n",
    "   plt.grid(True)\r\n",
    "   plt.show()\r\n",
    "   ```\r\n",
    "4. Optional: Miss mit `%timeit` die Geschwindigkeit folgender Zeile:\r\n",
    "\r\n",
    "   ```python\r\n",
    "   %timeit sum([i for i in range(1000)])\r\n",
    "   ```\r\n",
    "\r\n",
    "---\r\n",
    "\r\n",
    "💡 **Bonus:** Wer fertig ist, testet `A`, `D,D`, und `Shift+Enter` gezielt aus.\r\n",
    "Ziel: sich sicher dur-Wordcount oder DataFrame mit Pandas).\r\n"
   ]
  },
  {
   "cell_type": "markdown",
   "id": "e94bc39e-a22b-45a0-b01d-099fd819e6e9",
   "metadata": {},
   "source": [
    "# PYTHON"
   ]
  },
  {
   "cell_type": "markdown",
   "id": "bea1f9c4",
   "metadata": {},
   "source": [
    "### 🧠 Syntax‑Primer\n",
    "- Literale • Zuweisung • f‑Strings\n",
    "- `if / for / while / match-case`\n",
    "- List‑ & Dict‑Comprehension (wichtig für RDD Transforms)"
   ]
  },
  {
   "cell_type": "code",
   "execution_count": 59,
   "id": "400977d0-0201-478c-89c4-1bb9d2290511",
   "metadata": {},
   "outputs": [],
   "source": [
    "# Ganzzahlen, Fließkommazahlen, Strings, Listen, Dictionaries\n",
    "x = 42\n",
    "pi = 3.14\n",
    "name = \"Arga\"\n",
    "liste = [1, 2, 3]\n",
    "d = {\"key\": \"value\"}\n"
   ]
  },
  {
   "cell_type": "markdown",
   "id": "2f1cd17d-ece9-487e-ac19-157ab2d257dd",
   "metadata": {},
   "source": [
    "### 🧪 Übung:\n",
    "\n",
    "Was ist der Datentyp von folgenden Werten?"
   ]
  },
  {
   "cell_type": "code",
   "execution_count": 21,
   "id": "be5b85e2-e1f9-4cca-b0df-df1ee6959380",
   "metadata": {},
   "outputs": [
    {
     "name": "stdout",
     "output_type": "stream",
     "text": [
      "<class 'int'>\n",
      "<class 'float'>\n",
      "<class 'str'>\n",
      "<class 'list'>\n",
      "<class 'tuple'>\n",
      "<class 'dict'>\n"
     ]
    }
   ],
   "source": [
    "print(type(100))\n",
    "print(type(3.5))\n",
    "print(type(\"hello\"))\n",
    "print(type([1, 2, 3]))\n",
    "print(type((1, 2)))\n",
    "print(type({\"a\": 1}))"
   ]
  },
  {
   "cell_type": "markdown",
   "id": "330c40fe-0c2f-4670-80c0-b952de2b0c24",
   "metadata": {},
   "source": [
    "### "
   ]
  },
  {
   "cell_type": "markdown",
   "id": "d56dc8e8-6f4a-4c21-bf22-059e5eaa5154",
   "metadata": {},
   "source": [
    "### ⚙️ f-String\n",
    "\n",
    "Ein formatierter String in Python ab Version 3.6, der Ausdrücke direkt im String interpoliert."
   ]
  },
  {
   "cell_type": "code",
   "execution_count": 29,
   "id": "0b5045ba-8b31-4746-9c45-cb46f0d7adf1",
   "metadata": {},
   "outputs": [
    {
     "name": "stdout",
     "output_type": "stream",
     "text": [
      "Arga ist 31 Jahre alt.\n"
     ]
    }
   ],
   "source": [
    "name = \"Arga\"\n",
    "alter = 31\n",
    "\n",
    "print(f\"{name} ist {alter} Jahre alt.\")\n"
   ]
  },
  {
   "cell_type": "markdown",
   "id": "8d080068-e6a5-4d84-bb98-1a1d2e51da25",
   "metadata": {},
   "source": [
    "### ⚙️ Kontrollstrukturen: if / for / while / match-case"
   ]
  },
  {
   "cell_type": "code",
   "execution_count": 31,
   "id": "1e3e7d2a-f3d4-459a-b4eb-3bdfa1ea31cf",
   "metadata": {},
   "outputs": [
    {
     "name": "stdout",
     "output_type": "stream",
     "text": [
      "x ist größer als 5\n"
     ]
    }
   ],
   "source": [
    "x = 10\n",
    "\n",
    "if x > 5:\n",
    "    print(\"x ist größer als 5\")\n",
    "else:\n",
    "    print(\"x ist klein\")"
   ]
  },
  {
   "cell_type": "markdown",
   "id": "7cb322fe-2ebf-4de0-8f84-77f6e7579223",
   "metadata": {},
   "source": [
    "#### ⚙️ Einfache Zählschleife "
   ]
  },
  {
   "cell_type": "code",
   "execution_count": 32,
   "id": "c386924a-4660-4ccd-a871-1fddcd803334",
   "metadata": {},
   "outputs": [
    {
     "name": "stdout",
     "output_type": "stream",
     "text": [
      "Schleife: 0\n",
      "Schleife: 1\n",
      "Schleife: 2\n"
     ]
    }
   ],
   "source": [
    "for i in range(3):\n",
    "    print(\"Schleife:\", i)"
   ]
  },
  {
   "cell_type": "markdown",
   "id": "ee704382-043b-4f93-a247-7fe39691e9f9",
   "metadata": {},
   "source": [
    "####  ⚙️ Nested for (verschachtelt)"
   ]
  },
  {
   "cell_type": "code",
   "execution_count": 43,
   "id": "1f77da51-acdf-4a0c-a5fc-c8425ff6218f",
   "metadata": {},
   "outputs": [
    {
     "name": "stdout",
     "output_type": "stream",
     "text": [
      "x=0, y=0\n",
      "x=0, y=1\n",
      "x=0, y=2\n",
      "x=1, y=0\n",
      "x=1, y=1\n",
      "x=1, y=2\n",
      "x=2, y=0\n",
      "x=2, y=1\n",
      "x=2, y=2\n"
     ]
    }
   ],
   "source": [
    "for x in range(3):\n",
    "    for y in range(3):\n",
    "        print(f\"x={x}, y={y}\")"
   ]
  },
  {
   "cell_type": "markdown",
   "id": "eaf5c121-2e7e-4e77-a0ea-80ca57b61042",
   "metadata": {},
   "source": [
    "#### ⚙️ Über eine Liste iterieren"
   ]
  },
  {
   "cell_type": "code",
   "execution_count": 41,
   "id": "bdfa4c0f-be01-44b3-b287-9a36d48ae20b",
   "metadata": {},
   "outputs": [
    {
     "name": "stdout",
     "output_type": "stream",
     "text": [
      "Hallo, Anna!\n",
      "Hallo, Ben!\n",
      "Hallo, Clara!\n"
     ]
    }
   ],
   "source": [
    "namen = [\"Anna\", \"Ben\", \"Clara\"]\n",
    "\n",
    "for name in namen:\n",
    "    print(f\"Hallo, {name}!\")"
   ]
  },
  {
   "cell_type": "markdown",
   "id": "0b90fa0b-bfa8-4cb7-8451-f571c29b3013",
   "metadata": {},
   "source": [
    "#### ⚙️ Mit range(start, stop, step)"
   ]
  },
  {
   "cell_type": "code",
   "execution_count": 40,
   "id": "e7133858-f600-4e12-bba9-6dc2f3d941dc",
   "metadata": {},
   "outputs": [
    {
     "name": "stdout",
     "output_type": "stream",
     "text": [
      "Runterzählen: 10\n",
      "Runterzählen: 8\n",
      "Runterzählen: 6\n",
      "Runterzählen: 4\n",
      "Runterzählen: 2\n"
     ]
    }
   ],
   "source": [
    "for zahl in range(10, 0, -2):\n",
    "    print(\"Runterzählen:\", zahl)"
   ]
  },
  {
   "cell_type": "code",
   "execution_count": 33,
   "id": "249d80dd-0b83-4399-a443-2a4d3a8fe98b",
   "metadata": {},
   "outputs": [
    {
     "name": "stdout",
     "output_type": "stream",
     "text": [
      "While: 0\n",
      "While: 1\n",
      "While: 2\n"
     ]
    }
   ],
   "source": [
    "n = 0\n",
    "while n < 3:\n",
    "    print(\"While:\", n)\n",
    "    n += 1\n"
   ]
  },
  {
   "cell_type": "code",
   "execution_count": 37,
   "id": "abcf5eb4-2adf-44ee-974a-788790a8dae4",
   "metadata": {},
   "outputs": [
    {
     "name": "stdout",
     "output_type": "stream",
     "text": [
      "Hallo\n"
     ]
    }
   ],
   "source": [
    "lang = \"de\"\n",
    "\n",
    "match lang:\n",
    "    case \"en\":\n",
    "        print(\"Hello\")\n",
    "    case \"de\":\n",
    "        print(\"Hallo\")\n",
    "    case \"fr\":\n",
    "        print(\"Salut\")\n",
    "    case _:\n",
    "        print(\"Language not supported\")\n"
   ]
  },
  {
   "cell_type": "markdown",
   "id": "42e3c9cc-ffa2-4d98-8bdb-16fcee9bcb3d",
   "metadata": {},
   "source": [
    "#### 🧪 Übung:\n",
    "Gib alle ungeraden Zahlen zwischen 1 und 20 aus"
   ]
  },
  {
   "cell_type": "code",
   "execution_count": 44,
   "id": "915e7f41-c7d3-4c3e-9752-be768287a092",
   "metadata": {},
   "outputs": [
    {
     "name": "stdout",
     "output_type": "stream",
     "text": [
      "1\n",
      "3\n",
      "5\n",
      "7\n",
      "9\n",
      "11\n",
      "13\n",
      "15\n",
      "17\n",
      "19\n"
     ]
    }
   ],
   "source": [
    "for zahl in range(1, 21):\n",
    "    if zahl % 2 != 0:\n",
    "        print(zahl)\n"
   ]
  },
  {
   "cell_type": "code",
   "execution_count": 45,
   "id": "ee908e6b-4560-4505-ac43-bfe807ae5b2b",
   "metadata": {},
   "outputs": [
    {
     "name": "stdout",
     "output_type": "stream",
     "text": [
      "1\n",
      "3\n",
      "5\n",
      "7\n",
      "9\n",
      "11\n",
      "13\n",
      "15\n",
      "17\n",
      "19\n"
     ]
    }
   ],
   "source": [
    "for zahl in range(1, 21, 2):\n",
    "    print(zahl)"
   ]
  },
  {
   "cell_type": "markdown",
   "id": "036142cf-dcc8-4434-8f87-2d57ba469888",
   "metadata": {},
   "source": [
    "### ---"
   ]
  },
  {
   "cell_type": "markdown",
   "id": "91b17d15-ae97-4c7f-b4e5-2cc81ef23dde",
   "metadata": {},
   "source": [
    "#### 🧪 Extra Übung : FizzBuzz (1 bis 100)\n",
    "| Zahl                   | Ausgabe         |\n",
    "| ---------------------- | --------------- |\n",
    "| Vielfaches von 3       | `Fizz`          |\n",
    "| Vielfaches von 5       | `Buzz`          |\n",
    "| Vielfaches von 3 und 5 | `FizzBuzz`      |\n",
    "| sonst                  | die Zahl selbst |\n"
   ]
  },
  {
   "cell_type": "code",
   "execution_count": 48,
   "id": "b2d04c92-167d-47da-92a6-f938f8ed6d38",
   "metadata": {},
   "outputs": [
    {
     "name": "stdout",
     "output_type": "stream",
     "text": [
      "1\n",
      "2\n",
      "Fizz\n",
      "4\n",
      "Buzz\n",
      "Fizz\n",
      "7\n",
      "8\n",
      "Fizz\n",
      "Buzz\n",
      "11\n",
      "Fizz\n",
      "13\n",
      "14\n",
      "FizzBuzz\n",
      "16\n",
      "17\n",
      "Fizz\n",
      "19\n",
      "Buzz\n",
      "Fizz\n",
      "22\n",
      "23\n",
      "Fizz\n",
      "Buzz\n",
      "26\n",
      "Fizz\n",
      "28\n",
      "29\n",
      "FizzBuzz\n",
      "31\n",
      "32\n",
      "Fizz\n",
      "34\n",
      "Buzz\n",
      "Fizz\n",
      "37\n",
      "38\n",
      "Fizz\n",
      "Buzz\n",
      "41\n",
      "Fizz\n",
      "43\n",
      "44\n",
      "FizzBuzz\n",
      "46\n",
      "47\n",
      "Fizz\n",
      "49\n",
      "Buzz\n",
      "Fizz\n",
      "52\n",
      "53\n",
      "Fizz\n",
      "Buzz\n",
      "56\n",
      "Fizz\n",
      "58\n",
      "59\n",
      "FizzBuzz\n",
      "61\n",
      "62\n",
      "Fizz\n",
      "64\n",
      "Buzz\n",
      "Fizz\n",
      "67\n",
      "68\n",
      "Fizz\n",
      "Buzz\n",
      "71\n",
      "Fizz\n",
      "73\n",
      "74\n",
      "FizzBuzz\n",
      "76\n",
      "77\n",
      "Fizz\n",
      "79\n",
      "Buzz\n",
      "Fizz\n",
      "82\n",
      "83\n",
      "Fizz\n",
      "Buzz\n",
      "86\n",
      "Fizz\n",
      "88\n",
      "89\n",
      "FizzBuzz\n",
      "91\n",
      "92\n",
      "Fizz\n",
      "94\n",
      "Buzz\n",
      "Fizz\n",
      "97\n",
      "98\n",
      "Fizz\n",
      "Buzz\n"
     ]
    }
   ],
   "source": [
    "for i in range(1, 101):\n",
    "    if i % 3 == 0 and i % 5 == 0:\n",
    "        print(\"FizzBuzz\")\n",
    "    elif i % 3 == 0:\n",
    "        print(\"Fizz\")\n",
    "    elif i % 5 == 0:\n",
    "        print(\"Buzz\")\n",
    "    else:\n",
    "        print(i)\n"
   ]
  },
  {
   "cell_type": "code",
   "execution_count": 3,
   "id": "122d993c",
   "metadata": {},
   "outputs": [
    {
     "name": "stdout",
     "output_type": "stream",
     "text": [
      "Hallo Arga, Runde 0\n",
      "Hallo Arga, Runde 1\n",
      "Hallo Arga, Runde 2\n"
     ]
    }
   ],
   "source": [
    "# Beispiele zum Nachtippen\n",
    "name = \"Arga\"\n",
    "for i in range(3):\n",
    "    print(f\"Hallo {name}, Runde {i}\")"
   ]
  },
  {
   "cell_type": "code",
   "execution_count": 6,
   "id": "3d1eecff",
   "metadata": {},
   "outputs": [
    {
     "data": {
      "text/plain": [
       "[0, 1, 4, 9, 16, 25, 36, 49, 64, 81]"
      ]
     },
     "execution_count": 6,
     "metadata": {},
     "output_type": "execute_result"
    }
   ],
   "source": [
    "# Comprehension‑Kurzform\n",
    "squares = [n**2 for n in range(10)]\n",
    "squares"
   ]
  },
  {
   "cell_type": "code",
   "execution_count": null,
   "id": "6fb8fb46-6c45-4eac-b5f6-05e24b48ae63",
   "metadata": {},
   "outputs": [],
   "source": []
  },
  {
   "cell_type": "markdown",
   "id": "495698fd-39e6-4ed0-a738-73de1d78cb70",
   "metadata": {},
   "source": [
    "## 🧠 String Methoden"
   ]
  },
  {
   "cell_type": "markdown",
   "id": "fdc75e3b-483f-4bb7-82e0-27f7a12c9d53",
   "metadata": {},
   "source": [
    "| **Python-Konstrukt**    | **Beschreibung**                                            | 💡 **Beispiel**           |\n",
    "| ----------------------- | ----------------------------------------------------------- | ------------------------- |\n",
    "| `.strip()`              | Entfernt Leerzeichen am Anfang und Ende eines Strings       | `\"  data  \".strip()`      |\n",
    "| `.lower()` / `.upper()` | Wandelt einen String in Klein- oder Großbuchstaben um       | `\"Email@x.com\".lower()`   |\n",
    "| `.split()`              | Teilt einen String anhand eines Trennzeichens in Teile      | `\"a@b.com\".split(\"@\")[1]` |\n",
    "| `in`                    | Prüft, ob eine Teilzeichenkette im String enthalten ist     | `'abc' in \"alphabet\"`     |\n",
    "| `f-Strings`             | Formatiert und kombiniert Variablen innerhalb eines Strings | `f\"{vorname} {nachname}\"` |\n"
   ]
  },
  {
   "cell_type": "code",
   "execution_count": 61,
   "id": "3fbfdf4c-07eb-4072-b8c1-2025e6ebb140",
   "metadata": {},
   "outputs": [
    {
     "data": {
      "text/plain": [
       "'arga'"
      ]
     },
     "execution_count": 61,
     "metadata": {},
     "output_type": "execute_result"
    }
   ],
   "source": [
    "\"       arga      \".strip()"
   ]
  },
  {
   "cell_type": "code",
   "execution_count": 62,
   "id": "d40d04ca-4448-4785-aa31-c3e78f1c0f63",
   "metadata": {},
   "outputs": [
    {
     "data": {
      "text/plain": [
       "'max.mustermann@gmail.com'"
      ]
     },
     "execution_count": 62,
     "metadata": {},
     "output_type": "execute_result"
    }
   ],
   "source": [
    "\"MAX.MUSTERMANN@GMAIL.COM\".lower()"
   ]
  },
  {
   "cell_type": "code",
   "execution_count": 63,
   "id": "5bc5cc44-3e8c-4bdb-a51d-804f7d766a30",
   "metadata": {},
   "outputs": [
    {
     "data": {
      "text/plain": [
       "'b.com'"
      ]
     },
     "execution_count": 63,
     "metadata": {},
     "output_type": "execute_result"
    }
   ],
   "source": [
    "\"a@b.com\".split(\"@\")[1]"
   ]
  },
  {
   "cell_type": "code",
   "execution_count": 65,
   "id": "a732ef04-5de6-41cb-8384-6378505ffa42",
   "metadata": {},
   "outputs": [
    {
     "data": {
      "text/plain": [
       "'a'"
      ]
     },
     "execution_count": 65,
     "metadata": {},
     "output_type": "execute_result"
    }
   ],
   "source": [
    "\"a@b.com\".split(\"@\")[0]"
   ]
  },
  {
   "cell_type": "code",
   "execution_count": 66,
   "id": "f3f8b138-954b-4d08-bf5f-388e3fb2ca54",
   "metadata": {},
   "outputs": [
    {
     "data": {
      "text/plain": [
       "False"
      ]
     },
     "execution_count": 66,
     "metadata": {},
     "output_type": "execute_result"
    }
   ],
   "source": [
    "'abc' in \"alphabet\""
   ]
  },
  {
   "cell_type": "code",
   "execution_count": 67,
   "id": "6a4a71da-6b5e-4cd4-9ae2-877e54f0770b",
   "metadata": {
    "scrolled": true
   },
   "outputs": [
    {
     "data": {
      "text/plain": [
       "True"
      ]
     },
     "execution_count": 67,
     "metadata": {},
     "output_type": "execute_result"
    }
   ],
   "source": [
    "'abc' in \"bababababababcbababababa\""
   ]
  },
  {
   "cell_type": "markdown",
   "id": "efff472f",
   "metadata": {},
   "source": [
    "## 🧠 Funktionen & Module\n",
    "- `def`, `return`, `*args`, `**kwargs`\n",
    "- Imports (z. B. `os`, `sys`, `pathlib`, `pandas`)"
   ]
  },
  {
   "cell_type": "markdown",
   "id": "ab6bd149-2dce-4ed6-8117-dc6b22633548",
   "metadata": {},
   "source": [
    "#### ⚙️ Was ist eine Funktion in Python?\n",
    "\n",
    "Eine Funktion ist ein benannter, wiederverwendbarer Block aus Code, der eine bestimmte Aufgabe ausführt.\n",
    "\n",
    "Du kannst sie einmal definieren und beliebig oft aufrufen – oft mit Parametern und Rückgabewert."
   ]
  },
  {
   "cell_type": "code",
   "execution_count": 49,
   "id": "0c528e29",
   "metadata": {},
   "outputs": [],
   "source": [
    "def fahrenheit_to_celsius(f):\n",
    "    \"\"\"Convert °F to °C\"\"\"\n",
    "    return (f - 32) * 5/9"
   ]
  },
  {
   "cell_type": "code",
   "execution_count": 50,
   "id": "405f0e65-e064-4d13-b140-a48419bb274d",
   "metadata": {},
   "outputs": [
    {
     "data": {
      "text/plain": [
       "25.0"
      ]
     },
     "execution_count": 50,
     "metadata": {},
     "output_type": "execute_result"
    }
   ],
   "source": [
    "fahrenheit_to_celsius(77)"
   ]
  },
  {
   "cell_type": "code",
   "execution_count": 53,
   "id": "10322322-5c04-4153-ba9d-37693d461240",
   "metadata": {},
   "outputs": [
    {
     "data": {
      "text/plain": [
       "37.22222222222222"
      ]
     },
     "execution_count": 53,
     "metadata": {},
     "output_type": "execute_result"
    }
   ],
   "source": [
    "fahrenheit_to_celsius(99)"
   ]
  },
  {
   "cell_type": "markdown",
   "id": "6e496024-2794-4e99-85ba-4120e1abf113",
   "metadata": {},
   "source": [
    "#### ⚙️ Was ist *args in Python?\n",
    "\n",
    "*args erlaubt dir, eine flexible Anzahl von Positionsargumenten an eine Funktion zu übergeben.\n",
    "Du musst vorher nicht wissen, wie viele Argumente die Nutzer:innen beim Aufruf übergeben werden."
   ]
  },
  {
   "cell_type": "code",
   "execution_count": 54,
   "id": "c5bb6c79-21ae-44d9-a6bd-e9777b65a6a9",
   "metadata": {},
   "outputs": [],
   "source": [
    "def funktion_name(*args):\n",
    "    for wert in args:\n",
    "        print(wert)"
   ]
  },
  {
   "cell_type": "code",
   "execution_count": 55,
   "id": "6367cdc7-7637-4238-bdc8-94add7bf454d",
   "metadata": {
    "scrolled": true
   },
   "outputs": [
    {
     "name": "stdout",
     "output_type": "stream",
     "text": [
      "Arga\n",
      "Hendrik\n",
      "Sheikh\n",
      "Tilo\n",
      "Jan\n",
      "Ralf-Uwe\n",
      "Julian\n"
     ]
    }
   ],
   "source": [
    "funktion_name(\"Arga\", \"Hendrik\", \"Sheikh\", \"Tilo\", \"Jan\", \"Ralf-Uwe\",\"Julian\")"
   ]
  },
  {
   "cell_type": "markdown",
   "id": "8de28e73-ef56-43e5-8c4a-08702b015416",
   "metadata": {},
   "source": [
    "#### ⚙️ Was ist **kwargs in Python?\n",
    "\n",
    "**kwargs steht für \"keyword arguments\" – es erlaubt dir, beliebig viele benannte Parameter (z. B. name=wert) in einer Funktion zu übergeben, ohne sie vorher definieren zu müssen."
   ]
  },
  {
   "cell_type": "code",
   "execution_count": 57,
   "id": "86c0cbe7-ae35-4ca9-bf2b-5f7fa1a840f8",
   "metadata": {},
   "outputs": [],
   "source": [
    "def benutzerdaten(**kwargs):\n",
    "    for key, value in kwargs.items():\n",
    "        print(f\"{key}: {value}\")"
   ]
  },
  {
   "cell_type": "code",
   "execution_count": 58,
   "id": "18afd315-a88e-47df-8f00-82c431277640",
   "metadata": {},
   "outputs": [
    {
     "name": "stdout",
     "output_type": "stream",
     "text": [
      "name: Arga\n",
      "alter: 31\n",
      "beruf: Data Engineer\n"
     ]
    }
   ],
   "source": [
    "benutzerdaten(name=\"Arga\", alter=31, beruf=\"Data Engineer\")"
   ]
  },
  {
   "cell_type": "markdown",
   "id": "bc9ce15e-65c7-4060-aa32-e7a954f5d50c",
   "metadata": {},
   "source": [
    "#### Import\n",
    "Der Befehl import wird verwendet, um externe Module oder Bibliotheken in dein Python-Programm zu laden, damit du deren Funktionen, Klassen oder Konstanten nutzen kannst."
   ]
  },
  {
   "cell_type": "code",
   "execution_count": 77,
   "id": "1462e48c-0749-4d6c-8a4f-e24b2be3ded7",
   "metadata": {},
   "outputs": [
    {
     "name": "stdout",
     "output_type": "stream",
     "text": [
      "1.0\n"
     ]
    }
   ],
   "source": [
    "from math import pi, sin\n",
    "print(sin(pi / 2))"
   ]
  },
  {
   "cell_type": "code",
   "execution_count": 78,
   "id": "f4afabd0-669a-4fab-8cd9-f1f7882862a4",
   "metadata": {},
   "outputs": [
    {
     "name": "stdout",
     "output_type": "stream",
     "text": [
      "4.0\n"
     ]
    }
   ],
   "source": [
    "import math\n",
    "print(math.sqrt(16))"
   ]
  },
  {
   "cell_type": "code",
   "execution_count": 79,
   "id": "f373183e-a4d2-4233-9873-c2061119e166",
   "metadata": {},
   "outputs": [],
   "source": [
    "#help('modules')"
   ]
  },
  {
   "cell_type": "markdown",
   "id": "90971ff4-6fd4-4a63-ba29-b91e94bd7d08",
   "metadata": {},
   "source": [
    "### 🐍 ✅ Python-Standardbibliothek\n",
    "\n",
    "> Alle diese Module kannst du mit `import xyz` verwenden – **ohne `pip install`!**\n",
    "\n",
    "Hier die wichtigsten:\n",
    "\n",
    "---\n",
    "\n",
    "#### 🔢 **Mathematik & Zahlen**\n",
    "\n",
    "| Modul        | Funktion                                          |\n",
    "| ------------ | ------------------------------------------------- |\n",
    "| `math`       | Mathematische Funktionen (`sqrt`, `floor`, `sin`) |\n",
    "| `random`     | Zufallszahlen (`randint`, `choice`)               |\n",
    "| `statistics` | Mittelwert, Median, Standardabweichung            |\n",
    "\n",
    "---\n",
    "\n",
    "#### 🕒 **Datum & Zeit**\n",
    "\n",
    "| Modul      | Funktion                    |\n",
    "| ---------- | --------------------------- |\n",
    "| `datetime` | Zeitstempel, Datumsrechnung |\n",
    "| `time`     | Zeitmessung, Sleep          |\n",
    "| `calendar` | Monats-/Kalenderfunktionen  |\n",
    "\n",
    "---\n",
    "\n",
    "#### 📂 **Dateisystem & Pfade**\n",
    "\n",
    "| Modul     | Funktion                             |\n",
    "| --------- | ------------------------------------ |\n",
    "| `os`      | Dateisystem, Umgebungsvariablen      |\n",
    "| `pathlib` | Objektorientierter Dateipfad-Zugriff |\n",
    "| `shutil`  | Kopieren, Verschieben, Archivieren   |\n",
    "| `glob`    | Files per Wildcards finden           |\n",
    "\n",
    "---\n",
    "\n",
    "#### 🛠️ **System, Tools & Debugging**\n",
    "\n",
    "| Modul       | Funktion                        |\n",
    "| ----------- | ------------------------------- |\n",
    "| `sys`       | Systempfade, Argumente, Version |\n",
    "| `argparse`  | Kommandozeilen-Argumente        |\n",
    "| `pdb`       | Debugger                        |\n",
    "| `traceback` | Stack-Traces analysieren        |\n",
    "\n",
    "---\n",
    "\n",
    "#### 🧵 **Concurrency (Nebenläufigkeit)**\n",
    "\n",
    "| Modul                | Funktion           |\n",
    "| -------------------- | ------------------ |\n",
    "| `threading`          | Threads            |\n",
    "| `multiprocessing`    | Parallele Prozesse |\n",
    "| `concurrent.futures` | Executor API       |\n",
    "\n",
    "---\n",
    "\n",
    "#### 🔤 **Text & Zeichenketten**\n",
    "\n",
    "| Modul      | Funktion                              |\n",
    "| ---------- | ------------------------------------- |\n",
    "| `string`   | Zeichenklassen, z. B. `ascii_letters` |\n",
    "| `re`       | Reguläre Ausdrücke                    |\n",
    "| `textwrap` | Zeilenumbruch & Formatierung          |\n",
    "\n",
    "---\n",
    "\n",
    "#### 🧪 **Testen & Mocken**\n",
    "\n",
    "| Modul      | Funktion                        |\n",
    "| ---------- | ------------------------------- |\n",
    "| `unittest` | Unit-Tests                      |\n",
    "| `doctest`  | Tests in Docstrings             |\n",
    "| `timeit`   | Code-Messung (z. B. Laufzeiten) |\n",
    "\n",
    "---\n",
    "\n",
    "#### 🧩 **Datenformate & Serialisierung**\n",
    "\n",
    "| Modul     | Funktion                 |\n",
    "| --------- | ------------------------ |\n",
    "| `json`    | JSON lesen/schreiben     |\n",
    "| `csv`     | CSV-Dateien verarbeiten  |\n",
    "| `pickle`  | Python-Objekte speichern |\n",
    "| `sqlite3` | Leichte lokale Datenbank |\n",
    "\n",
    "---\n",
    "\n",
    "#### 🔒 **Security & Hashes**\n",
    "\n",
    "| Modul     | Funktion                       |\n",
    "| --------- | ------------------------------ |\n",
    "| `hashlib` | MD5, SHA-Hashes                |\n",
    "| `secrets` | Kryptografisch sicherer Zufall |\n",
    "\n",
    "---\n"
   ]
  },
  {
   "cell_type": "markdown",
   "id": "a701c8bd",
   "metadata": {
    "jp-MarkdownHeadingCollapsed": true
   },
   "source": [
    "## 35 – 45 min: Datensammlungen\n",
    "- Listen • Tupel • Dicts • Sets\n",
    "- Mapping auf Spark RDD / DataFrame\n",
    "\n",
    "### Mini‑Kata\n",
    "Zähle die Häufigkeit von Wörtern in `word_list`."
   ]
  },
  {
   "cell_type": "code",
   "execution_count": null,
   "id": "7dbe7d2f",
   "metadata": {},
   "outputs": [],
   "source": [
    "word_list = [\"spark\", \"python\", \"spark\", \"data\"]\n",
    "freq = {}\n",
    "for w in word_list:\n",
    "    freq[w] = freq.get(w, 0) + 1\n",
    "freq"
   ]
  },
  {
   "cell_type": "markdown",
   "id": "87a4bf2f",
   "metadata": {},
   "source": [
    "## 45 – 52 min: Error‑Handling & Debugging\n",
    "- `try / except`, `raise`, `assert`\n",
    "- `breakpoint()` (ehem. `pdb`)\n"
   ]
  },
  {
   "cell_type": "code",
   "execution_count": 5,
   "id": "34ca7d3e",
   "metadata": {},
   "outputs": [
    {
     "name": "stdout",
     "output_type": "stream",
     "text": [
      "Fehler gefangen: invalid literal for int() with base 10: 'abc'\n"
     ]
    }
   ],
   "source": [
    "try:\n",
    "    int(\"abc\")\n",
    "except ValueError as e:\n",
    "    print(\"Fehler gefangen:\", e)"
   ]
  },
  {
   "cell_type": "markdown",
   "id": "3a078a83",
   "metadata": {},
   "source": [
    "## 52 – 60 min: Brücke zu PySpark\n",
    "Starte eine lokale Spark‑Session, lade eine CSV als DataFrame, zeig die ersten Zeilen."
   ]
  },
  {
   "cell_type": "code",
   "execution_count": null,
   "id": "5d576fd6",
   "metadata": {},
   "outputs": [],
   "source": [
    "from pyspark.sql import SparkSession\n",
    "\n",
    "spark = SparkSession.builder.master(\"local[*]\").appName(\"demo\").getOrCreate()\n",
    "df = spark.read.csv(\"path/to/your.csv\", header=True, inferSchema=True)\n",
    "df.show(3)\n",
    "spark.stop()"
   ]
  },
  {
   "cell_type": "markdown",
   "id": "1ee1d18d",
   "metadata": {},
   "source": [
    "## Anhang: Cheat‑Sheet & Links\n",
    "- [PEP 8](https://peps.python.org/pep-0008/)\n",
    "- [pandas Cheat Sheet](https://pandas.pydata.org/Pandas_Cheat_Sheet.pdf)\n",
    "- [Spark UDF Guide](https://spark.apache.org/docs/latest/sql-pyspark-pandas-with-arrow.html)\n"
   ]
  }
 ],
 "metadata": {
  "kernelspec": {
   "display_name": "Python 3 (ipykernel)",
   "language": "python",
   "name": "python3"
  },
  "language_info": {
   "codemirror_mode": {
    "name": "ipython",
    "version": 3
   },
   "file_extension": ".py",
   "mimetype": "text/x-python",
   "name": "python",
   "nbconvert_exporter": "python",
   "pygments_lexer": "ipython3",
   "version": "3.11.6"
  }
 },
 "nbformat": 4,
 "nbformat_minor": 5
}
