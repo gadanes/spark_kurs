{
 "cells": [
  {
   "cell_type": "markdown",
   "id": "397693f0-023a-4439-8cbe-6d88afd9896a",
   "metadata": {},
   "source": [
    "# Python Crash Course"
   ]
  },
  {
   "cell_type": "markdown",
   "id": "40decff0-dbd3-454d-9505-7b38e4174622",
   "metadata": {},
   "source": [
    "\r\n",
    "### 🧠 Technische Einführung in Jupyter Notebook\r\n",
    "\r\n",
    "#### ⚙️ Was ist Jupyter?\r\n",
    "\r\n",
    "Ein webbasierter **Notebook-Editor**, mit dem man **Python-Code ausführen**, **Markdown schreiben**, und **Visualisierungen interaktiv darstellen** kann.\r\n",
    "Unterstützt viele Sprachen über sog. *Kernels* (z. B. `ipykernel` für Python).\r\n",
    "\r\n",
    "---\r\n",
    "\r\n",
    "#### 💡 Warum Jupyter?\r\n",
    "\r\n",
    "| Vorteil               | Beschreibung                                                      |\r\n",
    "| --------------------- | ----------------------------------------------------------------- |\r\n",
    "| 🔁 Reproduzierbarkeit | Code, Output & Erklärung im selben Dokument                       |\r\n",
    "| 🧪 Experimentieren    | Änderungen an einzelnen Zellen ohne Neustart des gesamten Skripts |\r\n",
    "| 📊 Visualisierung     | Direktes Plotting mit `matplotlib`, `seaborn`, `plotly`, etc.     |\r\n",
    "| 📚 Dokumentation      | Unterstützung für Markdown, LaTeX, Code-Kommentare                |\r\n",
    "\r\n",
    "---\r\n",
    "\r\n",
    "#### ⌨️ Wichtige Shortcuts\r\n",
    "\r\n",
    "| Modus            | Taste           | Funktion                                 |\r\n",
    "| ---------------- | --------------- | ---------------------------------------- |\r\n",
    "| **Edit Mode**    | `Enter`         | Zelle bearbeiten                         |\r\n",
    "| **Command Mode** | `Esc`           | Zelle auswählen (blau)                   |\r\n",
    "|                  | `A`             | Zelle **oberhalb** einfügen              |\r\n",
    "|                  | `B`             | Zelle **unterhalb** einfügen             |\r\n",
    "|                  | `D, D`          | Zelle löschen                            |\r\n",
    "|                  | `M`             | Zelle in **Markdown** umwandeln          |\r\n",
    "|                  | `Y`             | Zelle in **Code** umwandeln              |\r\n",
    "|                  | `Shift + Enter` | Zelle ausführen + nächste auswählen      |\r\n",
    "|                  | `Ctrl + Enter`  | Zelle ausführen, Auswahl behalten        |\r\n",
    "|                  | `Alt + Enter`   | Zelle ausführen + neue darunter einfügen |\r\n",
    "\r\n",
    "---\r\n",
    "\r\n",
    "#### 🧪 Nützliche Magic-Commands\r\n",
    "\r\n",
    "| Befehl               | Zweck                                |\r\n",
    "| -------------------- | ------------------------------------ |\r\n",
    "| `%timeit`            | Zeitmessung einer Anweisung          |\r\n",
    "| `%who` / `%whos`     | Zeigt aktuell definierte Variablen   |\r\n",
    "| `%matplotlib inline` | Plots direkt im Notebook anzeigen    |\r\n",
    "| `%%time`             | Gesamtzeit einer ganzen Zelle messen |\r\n",
    "| `%debug`             | Nach Fehler interaktiver Debug-Modus |\r\n",
    "\r\n",
    "---\r\n",
    "\r\n",
    "#### 🧰 Beispiel-Workflow in Data Engineering\r\n",
    "\r\n",
    "```python\r\n",
    "# 1. Daten lesen\r\n",
    "import pandas as pd\r\n",
    "df = pd.read_csv(\"data.csv\")\r\n",
    "\r\n",
    "# 2. Übersicht anzeigen\r\n",
    "df.info()\r\n",
    "\r\n",
    "# 3. Plot erzeugen\r\n",
    "import avon eine PDF, eine Folienversion, oder das Ganze als Jupyter Notebook?\r\n"
   ]
  },
  {
   "cell_type": "markdown",
   "id": "1ac07533-d1bf-4891-bb04-ca4f7e40d980",
   "metadata": {},
   "source": [
    "---\n",
    "---\n",
    "---"
   ]
  },
  {
   "cell_type": "markdown",
   "id": "1f5a0792-1c43-413a-bfd5-641a7a2a7fc0",
   "metadata": {
    "jp-MarkdownHeadingCollapsed": true
   },
   "source": [
    "Hier ist eine kleine **2-Minuten-Übung** \n",
    "\r\n",
    "---\r\n",
    "#\n",
    "# ⏱️ 2-Minuten-Challenge: Erste Schritte im Notebook\r\n",
    "\r\n",
    "> Ziel: Tastenkürzel testen, Markdown & Code mischen, Plot erzeugen\r\n",
    "\r\n",
    "#### 🧪 Aufgabe\r\n",
    "\r\n",
    "1. **Füge eine neue Zelle ein** (Shortcut: `B`)\r\n",
    "2. **Wechsle zu Markdown-Modus** (`M`) und schreibe eine Überschrift:\r\n",
    "\r\n",
    "   ```markdown\r\n",
    "   ## Mein erstes Notebook 🚀\r\n",
    "   ```\r\n",
    "3. **Füge darunter eine Code-Zelle ein** (`B` → `Y`) und führe folgenden Code aus:\r\n",
    "\r\n",
    "   ```python\r\n",
    "   import matplotlib.pyplot as plt\r\n",
    "   plt.plot([1, 4, 2, 5, 3])\r\n",
    "   plt.title(\"Mini-Testplot\")\r\n",
    "   plt.grid(True)\r\n",
    "   plt.show()\r\n",
    "   ```\r\n",
    "4. Optional: Miss mit `%timeit` die Geschwindigkeit folgender Zeile:\r\n",
    "\r\n",
    "   ```python\r\n",
    "   %timeit sum([i for i in range(1000)])\r\n",
    "   ```\r\n",
    "\r\n",
    "---\r\n",
    "\r\n",
    "💡 **Bonus:** Wer fertig ist, testet `A`, `D,D`, und `Shift+Enter` gezielt aus.\r\n",
    "Ziel: sich sicher dur-Wordcount oder DataFrame mit Pandas).\r\n"
   ]
  },
  {
   "cell_type": "markdown",
   "id": "e94bc39e-a22b-45a0-b01d-099fd819e6e9",
   "metadata": {},
   "source": [
    "# PYTHON"
   ]
  },
  {
   "cell_type": "markdown",
   "id": "b742f6a3-ce5c-4ab1-bc83-d7f45493d4c1",
   "metadata": {},
   "source": [
    "### 🧠 Basics\n",
    "- print\n",
    "- Kommentar"
   ]
  },
  {
   "cell_type": "markdown",
   "id": "4986a6b6-fad9-45cb-9781-38190a171cc3",
   "metadata": {},
   "source": [
    "### print"
   ]
  },
  {
   "cell_type": "code",
   "execution_count": 34,
   "id": "ac6b4160-940e-4241-845e-a594cd9c9357",
   "metadata": {},
   "outputs": [
    {
     "name": "stdout",
     "output_type": "stream",
     "text": [
      "Hallo Welt!\n",
      "42\n",
      "3.14\n"
     ]
    }
   ],
   "source": [
    "print(\"Hallo Welt!\")  # Einfacher Text\n",
    "print(42)            # Zahl\n",
    "print(3.14)          # Fließkommazahl"
   ]
  },
  {
   "cell_type": "code",
   "execution_count": 35,
   "id": "e3fc807b-da08-4304-a242-3a378392ccfa",
   "metadata": {},
   "outputs": [
    {
     "name": "stdout",
     "output_type": "stream",
     "text": [
      "Name: Anna Alter: 25\n"
     ]
    }
   ],
   "source": [
    "# Mehrere Werte ausgeben\n",
    "name = \"Anna\"\n",
    "alter = 25\n",
    "print(\"Name:\", name, \"Alter:\", alter)  # Trennt Werte automatisch mit Leerzeichen"
   ]
  },
  {
   "cell_type": "code",
   "execution_count": 36,
   "id": "2db7dbd2-6b39-43d4-99f7-2c98d2549a63",
   "metadata": {},
   "outputs": [
    {
     "name": "stdout",
     "output_type": "stream",
     "text": [
      "Anna ist 25 Jahre alt.\n"
     ]
    }
   ],
   "source": [
    "# f-Strings (ab Python 3.6)\n",
    "print(f\"{name} ist {alter} Jahre alt.\")"
   ]
  },
  {
   "cell_type": "markdown",
   "id": "6e500f1a-9f30-4db0-aea6-cf9c5dd37aa4",
   "metadata": {},
   "source": [
    "### Kommentar"
   ]
  },
  {
   "cell_type": "code",
   "execution_count": 37,
   "id": "0221e4c4-1371-428f-8536-2ca0504540b3",
   "metadata": {},
   "outputs": [],
   "source": [
    "# Das ist ein einzeiliger Kommentar\n",
    "\n",
    "\"\"\"\n",
    "Das ist ein mehrzeiliger Kommentar\n",
    "(technisch gesehen ein String, der nicht zugewiesen wird)\n",
    "\"\"\"\n",
    "\n",
    "def funktion():\n",
    "    \"\"\"Docstring - Kommentar für Funktionen\"\"\"\n",
    "    pass"
   ]
  },
  {
   "cell_type": "markdown",
   "id": "bea1f9c4",
   "metadata": {},
   "source": [
    "### 🧠 Syntax‑Primer\n",
    "- Literale • Zuweisung\n",
    "- `if / for / while / match-case`\n",
    "- List‑ & Dict‑Comprehension (wichtig für RDD Transforms)"
   ]
  },
  {
   "cell_type": "markdown",
   "id": "52763721-91fe-4485-81ff-e776171942a5",
   "metadata": {},
   "source": [
    "#### Ein Literal ist ein fester Wert, der direkt in den Quellcode geschrieben wird"
   ]
  },
  {
   "cell_type": "code",
   "execution_count": 30,
   "id": "db19dd46-a19e-4dda-b7a8-3a4379bf6cf7",
   "metadata": {},
   "outputs": [
    {
     "data": {
      "text/plain": [
       "[1, 2, 3]"
      ]
     },
     "execution_count": 30,
     "metadata": {},
     "output_type": "execute_result"
    }
   ],
   "source": [
    "42          # Integer-Literal\n",
    "3.14        # Float-Literal\n",
    "\"Hello\"     # String-Literal\n",
    "True        # Boolean-Literal\n",
    "[1, 2, 3]   # Listen-Literal"
   ]
  },
  {
   "cell_type": "markdown",
   "id": "09b450e7-f016-4e3b-9ea9-a561541a9732",
   "metadata": {},
   "source": [
    "#### Eine Variable ist ein Speicherort mit einem symbolischen Namen, der verschiedene Werte aufnehmen kann"
   ]
  },
  {
   "cell_type": "code",
   "execution_count": 31,
   "id": "400977d0-0201-478c-89c4-1bb9d2290511",
   "metadata": {},
   "outputs": [],
   "source": [
    "# Zuweisung von Ganzzahlen, Fließkommazahlen, Strings, Listen, Dictionaries \n",
    "x = 42\n",
    "pi = 3.14\n",
    "name = \"Arga\"\n",
    "liste = [1, 2, 3]\n",
    "d = {\"key\": \"value\"}\n"
   ]
  },
  {
   "cell_type": "markdown",
   "id": "2f1cd17d-ece9-487e-ac19-157ab2d257dd",
   "metadata": {
    "jp-MarkdownHeadingCollapsed": true
   },
   "source": [
    "### 🧪 Übung:\n",
    "\n",
    "Was ist der Datentyp von folgenden Werten?"
   ]
  },
  {
   "cell_type": "code",
   "execution_count": 21,
   "id": "be5b85e2-e1f9-4cca-b0df-df1ee6959380",
   "metadata": {},
   "outputs": [
    {
     "name": "stdout",
     "output_type": "stream",
     "text": [
      "<class 'int'>\n",
      "<class 'float'>\n",
      "<class 'str'>\n",
      "<class 'list'>\n",
      "<class 'tuple'>\n",
      "<class 'dict'>\n"
     ]
    }
   ],
   "source": [
    "print(type(100))\n",
    "print(type(3.5))\n",
    "print(type(\"hello\"))\n",
    "print(type([1, 2, 3]))\n",
    "print(type((1, 2)))\n",
    "print(type({\"a\": 1}))"
   ]
  },
  {
   "cell_type": "markdown",
   "id": "330c40fe-0c2f-4670-80c0-b952de2b0c24",
   "metadata": {},
   "source": [
    "### "
   ]
  },
  {
   "cell_type": "markdown",
   "id": "8d080068-e6a5-4d84-bb98-1a1d2e51da25",
   "metadata": {},
   "source": [
    "### ⚙️ Kontrollstrukturen: if / for / while / match-case"
   ]
  },
  {
   "cell_type": "markdown",
   "id": "98b6cf81-caa0-45d0-ab66-3f006da5e3d7",
   "metadata": {},
   "source": [
    "#### if-Bedingungen (Verzweigungen)\n",
    "\n",
    "Steuert, ob ein Codeblock ausgeführt wird, basierend auf einer Bedingung."
   ]
  },
  {
   "cell_type": "code",
   "execution_count": 31,
   "id": "1e3e7d2a-f3d4-459a-b4eb-3bdfa1ea31cf",
   "metadata": {},
   "outputs": [
    {
     "name": "stdout",
     "output_type": "stream",
     "text": [
      "x ist größer als 5\n"
     ]
    }
   ],
   "source": [
    "x = 10\n",
    "\n",
    "if x > 5:\n",
    "    print(\"x ist größer als 5\")\n",
    "else:\n",
    "    print(\"x ist klein\")"
   ]
  },
  {
   "cell_type": "markdown",
   "id": "50e7ee51-9715-4872-8cdc-e3b88284939a",
   "metadata": {},
   "source": [
    "#### for-Schleife (Iteration über Sequenzen)\n",
    "\n",
    "Führt Code für jedes Element in einer Liste, einem String, etc. aus."
   ]
  },
  {
   "cell_type": "markdown",
   "id": "7cb322fe-2ebf-4de0-8f84-77f6e7579223",
   "metadata": {},
   "source": [
    "#### ⚙️ Einfache Zählschleife "
   ]
  },
  {
   "cell_type": "code",
   "execution_count": 32,
   "id": "c386924a-4660-4ccd-a871-1fddcd803334",
   "metadata": {},
   "outputs": [
    {
     "name": "stdout",
     "output_type": "stream",
     "text": [
      "Schleife: 0\n",
      "Schleife: 1\n",
      "Schleife: 2\n"
     ]
    }
   ],
   "source": [
    "for i in range(3):\n",
    "    print(\"Schleife:\", i)"
   ]
  },
  {
   "cell_type": "markdown",
   "id": "ee704382-043b-4f93-a247-7fe39691e9f9",
   "metadata": {},
   "source": [
    "####  ⚙️ Nested for (verschachtelt)"
   ]
  },
  {
   "cell_type": "code",
   "execution_count": 43,
   "id": "1f77da51-acdf-4a0c-a5fc-c8425ff6218f",
   "metadata": {},
   "outputs": [
    {
     "name": "stdout",
     "output_type": "stream",
     "text": [
      "x=0, y=0\n",
      "x=0, y=1\n",
      "x=0, y=2\n",
      "x=1, y=0\n",
      "x=1, y=1\n",
      "x=1, y=2\n",
      "x=2, y=0\n",
      "x=2, y=1\n",
      "x=2, y=2\n"
     ]
    }
   ],
   "source": [
    "for x in range(3):\n",
    "    for y in range(3):\n",
    "        print(f\"x={x}, y={y}\")"
   ]
  },
  {
   "cell_type": "markdown",
   "id": "eaf5c121-2e7e-4e77-a0ea-80ca57b61042",
   "metadata": {},
   "source": [
    "#### ⚙️ Über eine Liste iterieren"
   ]
  },
  {
   "cell_type": "code",
   "execution_count": 41,
   "id": "bdfa4c0f-be01-44b3-b287-9a36d48ae20b",
   "metadata": {},
   "outputs": [
    {
     "name": "stdout",
     "output_type": "stream",
     "text": [
      "Hallo, Anna!\n",
      "Hallo, Ben!\n",
      "Hallo, Clara!\n"
     ]
    }
   ],
   "source": [
    "namen = [\"Anna\", \"Ben\", \"Clara\"]\n",
    "\n",
    "for name in namen:\n",
    "    print(f\"Hallo, {name}!\")"
   ]
  },
  {
   "cell_type": "markdown",
   "id": "0b90fa0b-bfa8-4cb7-8451-f571c29b3013",
   "metadata": {},
   "source": [
    "#### ⚙️ Mit range(start, stop, step)"
   ]
  },
  {
   "cell_type": "code",
   "execution_count": 40,
   "id": "e7133858-f600-4e12-bba9-6dc2f3d941dc",
   "metadata": {},
   "outputs": [
    {
     "name": "stdout",
     "output_type": "stream",
     "text": [
      "Runterzählen: 10\n",
      "Runterzählen: 8\n",
      "Runterzählen: 6\n",
      "Runterzählen: 4\n",
      "Runterzählen: 2\n"
     ]
    }
   ],
   "source": [
    "for zahl in range(10, 0, -2):\n",
    "    print(\"Runterzählen:\", zahl)"
   ]
  },
  {
   "cell_type": "markdown",
   "id": "b21e35a1-2236-4397-a9f4-10d91bc70a0f",
   "metadata": {},
   "source": [
    "#### while-Schleife (Wiederholung bis Bedingung falsch ist)\n",
    "\n",
    "Führt Code so lange aus, wie eine Bedingung True ist."
   ]
  },
  {
   "cell_type": "code",
   "execution_count": 33,
   "id": "249d80dd-0b83-4399-a443-2a4d3a8fe98b",
   "metadata": {},
   "outputs": [
    {
     "name": "stdout",
     "output_type": "stream",
     "text": [
      "While: 0\n",
      "While: 1\n",
      "While: 2\n"
     ]
    }
   ],
   "source": [
    "n = 0\n",
    "while n < 3:\n",
    "    print(\"While:\", n)\n",
    "    n += 1\n"
   ]
  },
  {
   "cell_type": "markdown",
   "id": "01914532-4742-4707-83fb-5d91a76b4561",
   "metadata": {},
   "source": [
    "#### match-case (Pattern Matching, ab Python 3.10)\n",
    "\n",
    "Vergleicht einen Wert mit verschiedenen Mustern (ähnlich wie switch-case in anderen Sprachen)."
   ]
  },
  {
   "cell_type": "code",
   "execution_count": 37,
   "id": "abcf5eb4-2adf-44ee-974a-788790a8dae4",
   "metadata": {},
   "outputs": [
    {
     "name": "stdout",
     "output_type": "stream",
     "text": [
      "Hallo\n"
     ]
    }
   ],
   "source": [
    "lang = \"de\"\n",
    "\n",
    "match lang:\n",
    "    case \"en\":\n",
    "        print(\"Hello\")\n",
    "    case \"de\":\n",
    "        print(\"Hallo\")\n",
    "    case \"fr\":\n",
    "        print(\"Salut\")\n",
    "    case _:\n",
    "        print(\"Language not supported\")\n"
   ]
  },
  {
   "cell_type": "markdown",
   "id": "42e3c9cc-ffa2-4d98-8bdb-16fcee9bcb3d",
   "metadata": {
    "jp-MarkdownHeadingCollapsed": true
   },
   "source": [
    "#### 🧪 Übung:\n",
    "Gib alle ungeraden Zahlen zwischen 1 und 20 aus"
   ]
  },
  {
   "cell_type": "code",
   "execution_count": 44,
   "id": "915e7f41-c7d3-4c3e-9752-be768287a092",
   "metadata": {},
   "outputs": [
    {
     "name": "stdout",
     "output_type": "stream",
     "text": [
      "1\n",
      "3\n",
      "5\n",
      "7\n",
      "9\n",
      "11\n",
      "13\n",
      "15\n",
      "17\n",
      "19\n"
     ]
    }
   ],
   "source": [
    "for zahl in range(1, 21):\n",
    "    if zahl % 2 != 0:\n",
    "        print(zahl)\n"
   ]
  },
  {
   "cell_type": "code",
   "execution_count": 45,
   "id": "ee908e6b-4560-4505-ac43-bfe807ae5b2b",
   "metadata": {},
   "outputs": [
    {
     "name": "stdout",
     "output_type": "stream",
     "text": [
      "1\n",
      "3\n",
      "5\n",
      "7\n",
      "9\n",
      "11\n",
      "13\n",
      "15\n",
      "17\n",
      "19\n"
     ]
    }
   ],
   "source": [
    "for zahl in range(1, 21, 2):\n",
    "    print(zahl)"
   ]
  },
  {
   "cell_type": "markdown",
   "id": "036142cf-dcc8-4434-8f87-2d57ba469888",
   "metadata": {},
   "source": [
    "### ---"
   ]
  },
  {
   "cell_type": "markdown",
   "id": "91b17d15-ae97-4c7f-b4e5-2cc81ef23dde",
   "metadata": {
    "jp-MarkdownHeadingCollapsed": true
   },
   "source": [
    "#### 🧪 Extra Übung : FizzBuzz (1 bis 100)\n",
    "| Zahl                   | Ausgabe         |\n",
    "| ---------------------- | --------------- |\n",
    "| Vielfaches von 3       | `Fizz`          |\n",
    "| Vielfaches von 5       | `Buzz`          |\n",
    "| Vielfaches von 3 und 5 | `FizzBuzz`      |\n",
    "| sonst                  | die Zahl selbst |\n"
   ]
  },
  {
   "cell_type": "code",
   "execution_count": 48,
   "id": "b2d04c92-167d-47da-92a6-f938f8ed6d38",
   "metadata": {},
   "outputs": [
    {
     "name": "stdout",
     "output_type": "stream",
     "text": [
      "1\n",
      "2\n",
      "Fizz\n",
      "4\n",
      "Buzz\n",
      "Fizz\n",
      "7\n",
      "8\n",
      "Fizz\n",
      "Buzz\n",
      "11\n",
      "Fizz\n",
      "13\n",
      "14\n",
      "FizzBuzz\n",
      "16\n",
      "17\n",
      "Fizz\n",
      "19\n",
      "Buzz\n",
      "Fizz\n",
      "22\n",
      "23\n",
      "Fizz\n",
      "Buzz\n",
      "26\n",
      "Fizz\n",
      "28\n",
      "29\n",
      "FizzBuzz\n",
      "31\n",
      "32\n",
      "Fizz\n",
      "34\n",
      "Buzz\n",
      "Fizz\n",
      "37\n",
      "38\n",
      "Fizz\n",
      "Buzz\n",
      "41\n",
      "Fizz\n",
      "43\n",
      "44\n",
      "FizzBuzz\n",
      "46\n",
      "47\n",
      "Fizz\n",
      "49\n",
      "Buzz\n",
      "Fizz\n",
      "52\n",
      "53\n",
      "Fizz\n",
      "Buzz\n",
      "56\n",
      "Fizz\n",
      "58\n",
      "59\n",
      "FizzBuzz\n",
      "61\n",
      "62\n",
      "Fizz\n",
      "64\n",
      "Buzz\n",
      "Fizz\n",
      "67\n",
      "68\n",
      "Fizz\n",
      "Buzz\n",
      "71\n",
      "Fizz\n",
      "73\n",
      "74\n",
      "FizzBuzz\n",
      "76\n",
      "77\n",
      "Fizz\n",
      "79\n",
      "Buzz\n",
      "Fizz\n",
      "82\n",
      "83\n",
      "Fizz\n",
      "Buzz\n",
      "86\n",
      "Fizz\n",
      "88\n",
      "89\n",
      "FizzBuzz\n",
      "91\n",
      "92\n",
      "Fizz\n",
      "94\n",
      "Buzz\n",
      "Fizz\n",
      "97\n",
      "98\n",
      "Fizz\n",
      "Buzz\n"
     ]
    }
   ],
   "source": [
    "for i in range(1, 101):\n",
    "    if i % 3 == 0 and i % 5 == 0:\n",
    "        print(\"FizzBuzz\")\n",
    "    elif i % 3 == 0:\n",
    "        print(\"Fizz\")\n",
    "    elif i % 5 == 0:\n",
    "        print(\"Buzz\")\n",
    "    else:\n",
    "        print(i)\n"
   ]
  },
  {
   "cell_type": "markdown",
   "id": "495698fd-39e6-4ed0-a738-73de1d78cb70",
   "metadata": {},
   "source": [
    "## 🧠 String Methoden"
   ]
  },
  {
   "cell_type": "markdown",
   "id": "fdc75e3b-483f-4bb7-82e0-27f7a12c9d53",
   "metadata": {},
   "source": [
    "String-Methoden sind Funktionen, die speziell für Zeichenketten (str-Objekte) in Python zur Verfügung stehen. Sie ermöglichen die Manipulation, Analyse und Formatierung von Texten.\n",
    "\n",
    "| **Python-Konstrukt**    | **Beschreibung**                                            | 💡 **Beispiel**           |\n",
    "| ----------------------- | ----------------------------------------------------------- | ------------------------- |\n",
    "| `.strip()`              | Entfernt Leerzeichen am Anfang und Ende eines Strings       | `\"  data  \".strip()`      |\n",
    "| `.lower()` / `.upper()` | Wandelt einen String in Klein- oder Großbuchstaben um       | `\"Email@x.com\".lower()`   |\n",
    "| `.split()`              | Teilt einen String anhand eines Trennzeichens in Teile      | `\"a@b.com\".split(\"@\")[1]` |\n",
    "| `in`                    | Prüft, ob eine Teilzeichenkette im String enthalten ist     | `'abc' in \"alphabet\"`     |\n",
    "| `f-Strings`             | Formatiert und kombiniert Variablen innerhalb eines Strings | `f\"{vorname} {nachname}\"` |\n"
   ]
  },
  {
   "cell_type": "code",
   "execution_count": 61,
   "id": "3fbfdf4c-07eb-4072-b8c1-2025e6ebb140",
   "metadata": {},
   "outputs": [
    {
     "data": {
      "text/plain": [
       "'arga'"
      ]
     },
     "execution_count": 61,
     "metadata": {},
     "output_type": "execute_result"
    }
   ],
   "source": [
    "\"       arga      \".strip()"
   ]
  },
  {
   "cell_type": "code",
   "execution_count": 62,
   "id": "d40d04ca-4448-4785-aa31-c3e78f1c0f63",
   "metadata": {},
   "outputs": [
    {
     "data": {
      "text/plain": [
       "'max.mustermann@gmail.com'"
      ]
     },
     "execution_count": 62,
     "metadata": {},
     "output_type": "execute_result"
    }
   ],
   "source": [
    "\"MAX.MUSTERMANN@GMAIL.COM\".lower()"
   ]
  },
  {
   "cell_type": "code",
   "execution_count": 63,
   "id": "5bc5cc44-3e8c-4bdb-a51d-804f7d766a30",
   "metadata": {},
   "outputs": [
    {
     "data": {
      "text/plain": [
       "'b.com'"
      ]
     },
     "execution_count": 63,
     "metadata": {},
     "output_type": "execute_result"
    }
   ],
   "source": [
    "\"a@b.com\".split(\"@\")[1]"
   ]
  },
  {
   "cell_type": "code",
   "execution_count": 65,
   "id": "a732ef04-5de6-41cb-8384-6378505ffa42",
   "metadata": {},
   "outputs": [
    {
     "data": {
      "text/plain": [
       "'a'"
      ]
     },
     "execution_count": 65,
     "metadata": {},
     "output_type": "execute_result"
    }
   ],
   "source": [
    "\"a@b.com\".split(\"@\")[0]"
   ]
  },
  {
   "cell_type": "code",
   "execution_count": 66,
   "id": "f3f8b138-954b-4d08-bf5f-388e3fb2ca54",
   "metadata": {},
   "outputs": [
    {
     "data": {
      "text/plain": [
       "False"
      ]
     },
     "execution_count": 66,
     "metadata": {},
     "output_type": "execute_result"
    }
   ],
   "source": [
    "'abc' in \"alphabet\""
   ]
  },
  {
   "cell_type": "code",
   "execution_count": 67,
   "id": "6a4a71da-6b5e-4cd4-9ae2-877e54f0770b",
   "metadata": {
    "scrolled": true
   },
   "outputs": [
    {
     "data": {
      "text/plain": [
       "True"
      ]
     },
     "execution_count": 67,
     "metadata": {},
     "output_type": "execute_result"
    }
   ],
   "source": [
    "'abc' in \"bababababababcbababababa\""
   ]
  },
  {
   "cell_type": "markdown",
   "id": "efff472f",
   "metadata": {},
   "source": [
    "## 🧠 Funktionen & Module\n",
    "- `def`, `return`, `*args`, `**kwargs`\n",
    "- Imports (z. B. `os`, `sys`, `pathlib`, `pandas`)"
   ]
  },
  {
   "cell_type": "markdown",
   "id": "ab6bd149-2dce-4ed6-8117-dc6b22633548",
   "metadata": {},
   "source": [
    "#### ⚙️ Was ist eine Funktion in Python?\n",
    "\n",
    "Eine Funktion ist ein benannter, wiederverwendbarer Block aus Code, der eine bestimmte Aufgabe ausführt.\n",
    "\n",
    "Du kannst sie einmal definieren und beliebig oft aufrufen – oft mit Parametern und Rückgabewert."
   ]
  },
  {
   "cell_type": "markdown",
   "id": "d79d710a-e0d1-446b-9065-d4d5a9bc0557",
   "metadata": {},
   "source": [
    "#### Unterschied zwischen Funktion und Methode:\n",
    "\n",
    "    Funktion:\n",
    "\n",
    "        - Eigenständiger Aufruf, z. B. print(\"Hallo\")\n",
    "        - Gehört nicht zu einem bestimmten Objekt.\n",
    "\n",
    "    Methode:\n",
    "\n",
    "        - Wird an ein Objekt gebunden, z. B. \"text\".upper()\n",
    "        - Wird mit einem Punkt (.) aufgerufen."
   ]
  },
  {
   "cell_type": "code",
   "execution_count": 49,
   "id": "0c528e29",
   "metadata": {},
   "outputs": [],
   "source": [
    "def fahrenheit_to_celsius(f):\n",
    "    \"\"\"Convert °F to °C\"\"\"\n",
    "    return (f - 32) * 5/9"
   ]
  },
  {
   "cell_type": "code",
   "execution_count": 39,
   "id": "70191d17-1899-487d-b00b-167a8b940926",
   "metadata": {},
   "outputs": [
    {
     "name": "stdout",
     "output_type": "stream",
     "text": [
      "arga\n"
     ]
    }
   ],
   "source": [
    "print_arga()"
   ]
  },
  {
   "cell_type": "code",
   "execution_count": 50,
   "id": "405f0e65-e064-4d13-b140-a48419bb274d",
   "metadata": {},
   "outputs": [
    {
     "data": {
      "text/plain": [
       "25.0"
      ]
     },
     "execution_count": 50,
     "metadata": {},
     "output_type": "execute_result"
    }
   ],
   "source": [
    "fahrenheit_to_celsius(77)"
   ]
  },
  {
   "cell_type": "code",
   "execution_count": 53,
   "id": "10322322-5c04-4153-ba9d-37693d461240",
   "metadata": {},
   "outputs": [
    {
     "data": {
      "text/plain": [
       "37.22222222222222"
      ]
     },
     "execution_count": 53,
     "metadata": {},
     "output_type": "execute_result"
    }
   ],
   "source": [
    "fahrenheit_to_celsius(99)"
   ]
  },
  {
   "cell_type": "markdown",
   "id": "6e496024-2794-4e99-85ba-4120e1abf113",
   "metadata": {},
   "source": [
    "#### ⚙️ Was ist *args in Python?\n",
    "\n",
    "*args erlaubt dir, eine flexible Anzahl von Positionsargumenten an eine Funktion zu übergeben.\n",
    "Du musst vorher nicht wissen, wie viele Argumente die Nutzer:innen beim Aufruf übergeben werden."
   ]
  },
  {
   "cell_type": "code",
   "execution_count": 54,
   "id": "c5bb6c79-21ae-44d9-a6bd-e9777b65a6a9",
   "metadata": {},
   "outputs": [],
   "source": [
    "def funktion_name(*args):\n",
    "    for wert in args:\n",
    "        print(wert)"
   ]
  },
  {
   "cell_type": "code",
   "execution_count": 55,
   "id": "6367cdc7-7637-4238-bdc8-94add7bf454d",
   "metadata": {
    "scrolled": true
   },
   "outputs": [
    {
     "name": "stdout",
     "output_type": "stream",
     "text": [
      "Arga\n",
      "Hendrik\n",
      "Sheikh\n",
      "Tilo\n",
      "Jan\n",
      "Ralf-Uwe\n",
      "Julian\n"
     ]
    }
   ],
   "source": [
    "funktion_name(\"Arga\", \"Hendrik\", \"Sheikh\", \"Tilo\", \"Jan\", \"Ralf-Uwe\",\"Julian\")"
   ]
  },
  {
   "cell_type": "markdown",
   "id": "8de28e73-ef56-43e5-8c4a-08702b015416",
   "metadata": {},
   "source": [
    "#### ⚙️ Was ist **kwargs in Python?\n",
    "\n",
    "**kwargs steht für \"keyword arguments\" – es erlaubt dir, beliebig viele benannte Parameter (z. B. name=wert) in einer Funktion zu übergeben, ohne sie vorher definieren zu müssen."
   ]
  },
  {
   "cell_type": "code",
   "execution_count": 57,
   "id": "86c0cbe7-ae35-4ca9-bf2b-5f7fa1a840f8",
   "metadata": {},
   "outputs": [],
   "source": [
    "def benutzerdaten(**kwargs):\n",
    "    for key, value in kwargs.items():\n",
    "        print(f\"{key}: {value}\")"
   ]
  },
  {
   "cell_type": "code",
   "execution_count": 58,
   "id": "18afd315-a88e-47df-8f00-82c431277640",
   "metadata": {},
   "outputs": [
    {
     "name": "stdout",
     "output_type": "stream",
     "text": [
      "name: Arga\n",
      "alter: 31\n",
      "beruf: Data Engineer\n"
     ]
    }
   ],
   "source": [
    "benutzerdaten(name=\"Arga\", alter=31, beruf=\"Data Engineer\")"
   ]
  },
  {
   "cell_type": "markdown",
   "id": "bc9ce15e-65c7-4060-aa32-e7a954f5d50c",
   "metadata": {},
   "source": [
    "#### Import\n",
    "Der Befehl import wird verwendet, um externe Module oder Bibliotheken in dein Python-Programm zu laden, damit du deren Funktionen, Klassen oder Konstanten nutzen kannst."
   ]
  },
  {
   "cell_type": "code",
   "execution_count": 77,
   "id": "1462e48c-0749-4d6c-8a4f-e24b2be3ded7",
   "metadata": {},
   "outputs": [
    {
     "name": "stdout",
     "output_type": "stream",
     "text": [
      "1.0\n"
     ]
    }
   ],
   "source": [
    "from math import pi, sin\n",
    "print(sin(pi / 2))"
   ]
  },
  {
   "cell_type": "code",
   "execution_count": 78,
   "id": "f4afabd0-669a-4fab-8cd9-f1f7882862a4",
   "metadata": {},
   "outputs": [
    {
     "name": "stdout",
     "output_type": "stream",
     "text": [
      "4.0\n"
     ]
    }
   ],
   "source": [
    "import math\n",
    "print(math.sqrt(16))"
   ]
  },
  {
   "cell_type": "code",
   "execution_count": 79,
   "id": "f373183e-a4d2-4233-9873-c2061119e166",
   "metadata": {},
   "outputs": [],
   "source": [
    "#help('modules')"
   ]
  },
  {
   "cell_type": "markdown",
   "id": "90971ff4-6fd4-4a63-ba29-b91e94bd7d08",
   "metadata": {},
   "source": [
    "### 🐍 ✅ Python-Standardbibliothek\n",
    "\n",
    "> Alle diese Module kannst du mit `import xyz` verwenden – **ohne `pip install`!**\n",
    "\n",
    "Hier die wichtigsten:\n",
    "\n",
    "---\n",
    "\n",
    "#### 🔢 **Mathematik & Zahlen**\n",
    "\n",
    "| Modul        | Funktion                                          |\n",
    "| ------------ | ------------------------------------------------- |\n",
    "| `math`       | Mathematische Funktionen (`sqrt`, `floor`, `sin`) |\n",
    "| `random`     | Zufallszahlen (`randint`, `choice`)               |\n",
    "| `statistics` | Mittelwert, Median, Standardabweichung            |\n",
    "\n",
    "---\n",
    "\n",
    "#### 🕒 **Datum & Zeit**\n",
    "\n",
    "| Modul      | Funktion                    |\n",
    "| ---------- | --------------------------- |\n",
    "| `datetime` | Zeitstempel, Datumsrechnung |\n",
    "| `time`     | Zeitmessung, Sleep          |\n",
    "| `calendar` | Monats-/Kalenderfunktionen  |\n",
    "\n",
    "---\n",
    "\n",
    "#### 📂 **Dateisystem & Pfade**\n",
    "\n",
    "| Modul     | Funktion                             |\n",
    "| --------- | ------------------------------------ |\n",
    "| `os`      | Dateisystem, Umgebungsvariablen      |\n",
    "| `pathlib` | Objektorientierter Dateipfad-Zugriff |\n",
    "| `shutil`  | Kopieren, Verschieben, Archivieren   |\n",
    "| `glob`    | Files per Wildcards finden           |\n",
    "\n",
    "---\n",
    "\n",
    "#### 🛠️ **System, Tools & Debugging**\n",
    "\n",
    "| Modul       | Funktion                        |\n",
    "| ----------- | ------------------------------- |\n",
    "| `sys`       | Systempfade, Argumente, Version |\n",
    "| `argparse`  | Kommandozeilen-Argumente        |\n",
    "| `pdb`       | Debugger                        |\n",
    "| `traceback` | Stack-Traces analysieren        |\n",
    "\n",
    "---\n",
    "\n",
    "#### 🧵 **Concurrency (Nebenläufigkeit)**\n",
    "\n",
    "| Modul                | Funktion           |\n",
    "| -------------------- | ------------------ |\n",
    "| `threading`          | Threads            |\n",
    "| `multiprocessing`    | Parallele Prozesse |\n",
    "| `concurrent.futures` | Executor API       |\n",
    "\n",
    "---\n",
    "\n",
    "#### 🔤 **Text & Zeichenketten**\n",
    "\n",
    "| Modul      | Funktion                              |\n",
    "| ---------- | ------------------------------------- |\n",
    "| `string`   | Zeichenklassen, z. B. `ascii_letters` |\n",
    "| `re`       | Reguläre Ausdrücke                    |\n",
    "| `textwrap` | Zeilenumbruch & Formatierung          |\n",
    "\n",
    "---\n",
    "\n",
    "#### 🧪 **Testen & Mocken**\n",
    "\n",
    "| Modul      | Funktion                        |\n",
    "| ---------- | ------------------------------- |\n",
    "| `unittest` | Unit-Tests                      |\n",
    "| `doctest`  | Tests in Docstrings             |\n",
    "| `timeit`   | Code-Messung (z. B. Laufzeiten) |\n",
    "\n",
    "---\n",
    "\n",
    "#### 🧩 **Datenformate & Serialisierung**\n",
    "\n",
    "| Modul     | Funktion                 |\n",
    "| --------- | ------------------------ |\n",
    "| `json`    | JSON lesen/schreiben     |\n",
    "| `csv`     | CSV-Dateien verarbeiten  |\n",
    "| `pickle`  | Python-Objekte speichern |\n",
    "| `sqlite3` | Leichte lokale Datenbank |\n",
    "\n",
    "---\n",
    "\n",
    "#### 🔒 **Security & Hashes**\n",
    "\n",
    "| Modul     | Funktion                       |\n",
    "| --------- | ------------------------------ |\n",
    "| `hashlib` | MD5, SHA-Hashes                |\n",
    "| `secrets` | Kryptografisch sicherer Zufall |\n",
    "\n",
    "---\n"
   ]
  },
  {
   "cell_type": "markdown",
   "id": "a701c8bd",
   "metadata": {},
   "source": [
    "## 🧠 Datensammlungen\n",
    "- Listen • Tupel • Dicts • Sets"
   ]
  },
  {
   "cell_type": "markdown",
   "id": "9ba3a235-0c42-4d28-90e9-1f3f1c753f8b",
   "metadata": {},
   "source": [
    "### 1. Listen – geordnet, veränderbar, erlaubt Duplikate"
   ]
  },
  {
   "cell_type": "code",
   "execution_count": 1,
   "id": "cd487a1e-9ae3-4b5c-9781-6fbf36ff2c56",
   "metadata": {},
   "outputs": [
    {
     "name": "stdout",
     "output_type": "stream",
     "text": [
      "['pear', 'banana', 'cherry', 'banana']\n"
     ]
    }
   ],
   "source": [
    "fruits = [\"apple\", \"banana\", \"cherry\"]\n",
    "fruits.append(\"banana\")      # erlaubt Duplikate\n",
    "fruits[0] = \"pear\"           # veränderbar (mutable)\n",
    "print(fruits)"
   ]
  },
  {
   "cell_type": "markdown",
   "id": "6e35174f-687c-4b36-9ed8-db3db7ecd047",
   "metadata": {},
   "source": [
    "Wichtige Methoden:\n",
    "\n",
    "    .append(x) – fügt ans Ende an\n",
    "    .insert(i, x) – fügt an Index ein\n",
    "    .remove(x) – entfernt das erste Vorkommen\n",
    "    .pop() – entfernt das letzte Element\n",
    "    .sort() – sortiert (ändert die Liste selbst)\n",
    "    sorted(list) – gibt eine sortierte Kopie zurück"
   ]
  },
  {
   "cell_type": "markdown",
   "id": "ea88b2c2-3ed4-4148-a0c9-e5fc3937ffb4",
   "metadata": {},
   "source": [
    "#### Listen und Teillisten in Python (mit Slicing :)"
   ]
  },
  {
   "cell_type": "code",
   "execution_count": 44,
   "id": "3c11cfb1-924f-4368-bd6b-011d6d66d66f",
   "metadata": {},
   "outputs": [],
   "source": [
    "meine_liste = [10, 20, 30, 40, 50, 60, 70, 80, 90]"
   ]
  },
  {
   "cell_type": "markdown",
   "id": "0de41f7a-d1a0-4426-8d9d-90645fe5507e",
   "metadata": {},
   "source": [
    "Die Slicing-Syntax lautet: **liste[start:stop:schritt]**\n",
    "\n",
    "    start: Index, bei dem der Ausschnitt beginnt (inklusive)\n",
    "    stop: Index, bei dem der Ausschnitt endet (exklusive)\n",
    "    schritt: Abstand zwischen Elementen (optional)"
   ]
  },
  {
   "cell_type": "code",
   "execution_count": 45,
   "id": "7aff4bd4-141f-4ba1-8a6d-96ea3882c566",
   "metadata": {},
   "outputs": [
    {
     "name": "stdout",
     "output_type": "stream",
     "text": [
      "[10, 20, 30]\n"
     ]
    }
   ],
   "source": [
    "# Erste 3 Elemente\n",
    "print(meine_liste[0:3])"
   ]
  },
  {
   "cell_type": "code",
   "execution_count": 46,
   "id": "9c724eef-c9da-4d36-b5f9-a466475de7f0",
   "metadata": {},
   "outputs": [
    {
     "name": "stdout",
     "output_type": "stream",
     "text": [
      "[30, 40, 50, 60]\n"
     ]
    }
   ],
   "source": [
    "# Elemente von Index 2 bis 5\n",
    "print(meine_liste[2:6])"
   ]
  },
  {
   "cell_type": "code",
   "execution_count": 49,
   "id": "c817eef8-ecb8-42b3-8dbd-f9debd807194",
   "metadata": {},
   "outputs": [
    {
     "name": "stdout",
     "output_type": "stream",
     "text": [
      "[10, 30, 50, 70, 90]\n"
     ]
    }
   ],
   "source": [
    "# Jedes zweite Element\n",
    "print(meine_liste[::2])"
   ]
  },
  {
   "cell_type": "code",
   "execution_count": 48,
   "id": "d19e3d44-a747-4deb-9b7b-a4daa3511278",
   "metadata": {},
   "outputs": [
    {
     "name": "stdout",
     "output_type": "stream",
     "text": [
      "[90, 80, 70, 60, 50, 40, 30, 20, 10]\n"
     ]
    }
   ],
   "source": [
    "# Liste umkehren\n",
    "print(meine_liste[::-1])"
   ]
  },
  {
   "cell_type": "markdown",
   "id": "095f3c02-c528-4e0b-9343-856aedfa596d",
   "metadata": {},
   "source": [
    "### 2. Tupel – geordnet, nicht veränderbar, erlaubt Duplikate"
   ]
  },
  {
   "cell_type": "code",
   "execution_count": 2,
   "id": "b14d66ac-ebb9-4e87-b385-8e3d063d43f7",
   "metadata": {},
   "outputs": [
    {
     "name": "stdout",
     "output_type": "stream",
     "text": [
      "20\n"
     ]
    }
   ],
   "source": [
    "coordinates = (10, 20)\n",
    "print(coordinates[1])       # Zugriff über Index\n",
    "\n",
    "# Tupel mit nur einem Element:\n",
    "single = (42,)              # das Komma ist wichtig!"
   ]
  },
  {
   "cell_type": "markdown",
   "id": "5721ba02-e45b-40bc-b9c3-a2c5b44d0b20",
   "metadata": {},
   "source": [
    "**Warum Tupel?**\n",
    "\n",
    "    - Datensicherheit (immutable)\n",
    "    - Kann als Schlüssel in Dictionaries verwendet werden\n",
    "    - Wird oft für Rückgaben von Funktionen verwendet: return (x, y)"
   ]
  },
  {
   "cell_type": "markdown",
   "id": "437681af-784c-4cad-a374-daeb246dfd63",
   "metadata": {},
   "source": [
    "### 3. Dictionaries (Dicts) – key-value pairs, ungeordnet bis Python 3.6, geordnet ab 3.7"
   ]
  },
  {
   "cell_type": "code",
   "execution_count": 4,
   "id": "a45808b7-ae46-4638-a89e-d80b9284caf4",
   "metadata": {},
   "outputs": [
    {
     "name": "stdout",
     "output_type": "stream",
     "text": [
      "Alice\n"
     ]
    }
   ],
   "source": [
    "person = {\"name\": \"Alice\", \"age\": 30}\n",
    "print(person[\"name\"])\n",
    "person[\"city\"] = \"Berlin\"     # Neues Paar hinzufügen"
   ]
  },
  {
   "cell_type": "markdown",
   "id": "1678b63a-ee1f-42e1-9fcd-479ad061a50e",
   "metadata": {},
   "source": [
    "Nützliche Methoden:\n",
    "\n",
    "    .keys() – alle Schlüssel\n",
    "    .values() – alle Werte\n",
    "    .items() – Paare (Key, Value)\n",
    "    .get(\"key\", \"default\") – sicherer Zugriff\n",
    "    .update({...}) – mehrere Änderungen auf einmal"
   ]
  },
  {
   "cell_type": "markdown",
   "id": "965262e7-3f6c-4187-bcb5-ee126adc4cbd",
   "metadata": {},
   "source": [
    " ### 4. Sets – ungeordnet, nur eindeutige Werte"
   ]
  },
  {
   "cell_type": "code",
   "execution_count": 5,
   "id": "b3425882-d9f8-4dfd-9919-9f81faf89e90",
   "metadata": {},
   "outputs": [
    {
     "name": "stdout",
     "output_type": "stream",
     "text": [
      "{1, 2, 3}\n"
     ]
    }
   ],
   "source": [
    "unique_numbers = {1, 2, 3, 2, 3, 3}\n",
    "print(unique_numbers)         # → {1, 2, 3}"
   ]
  },
  {
   "cell_type": "markdown",
   "id": "9b6dba2a-49bc-4cac-8c90-67871db76007",
   "metadata": {},
   "source": [
    "#### Nützliche Operationen:"
   ]
  },
  {
   "cell_type": "code",
   "execution_count": 7,
   "id": "e4c24dca-84ec-4fc3-aa26-5aa2ee9c1734",
   "metadata": {},
   "outputs": [
    {
     "data": {
      "text/plain": [
       "{1, 2, 3, 4, 5}"
      ]
     },
     "execution_count": 7,
     "metadata": {},
     "output_type": "execute_result"
    }
   ],
   "source": [
    "a = {1, 2, 3}\n",
    "b = {3, 4, 5}\n",
    "\n",
    "a.union(b)"
   ]
  },
  {
   "cell_type": "code",
   "execution_count": 8,
   "id": "93f7ea76-71e2-4386-9607-3edd7748b9b5",
   "metadata": {},
   "outputs": [
    {
     "data": {
      "text/plain": [
       "{3}"
      ]
     },
     "execution_count": 8,
     "metadata": {},
     "output_type": "execute_result"
    }
   ],
   "source": [
    "a.intersection(b)"
   ]
  },
  {
   "cell_type": "code",
   "execution_count": 9,
   "id": "78c25469-1e8c-4286-b991-f11a581a5499",
   "metadata": {
    "scrolled": true
   },
   "outputs": [
    {
     "data": {
      "text/plain": [
       "{1, 2}"
      ]
     },
     "execution_count": 9,
     "metadata": {},
     "output_type": "execute_result"
    }
   ],
   "source": [
    "a.difference(b) "
   ]
  },
  {
   "cell_type": "markdown",
   "id": "091ba3e1-80cb-4aaa-82f0-ba21f9aa9490",
   "metadata": {
    "jp-MarkdownHeadingCollapsed": true
   },
   "source": [
    "#### Übungsaufgaben:\n",
    "1. Erstelle eine Liste mit 5 Städtenamen und gib die ersten 3 aus\n",
    "2. Erstelle ein Tupel mit deinen Geburtsdaten (Tag, Monat, Jahr)\n",
    "3. Erstelle ein Dictionary mit 3 Produkten und ihren Preisen\n",
    "4. Erstelle zwei Sets mit Zahlen und berechne Schnittmenge und Differenz\n",
    "5. Wandle die Liste aus Aufgabe 1 in ein Set um - was passiert?"
   ]
  },
  {
   "cell_type": "code",
   "execution_count": 51,
   "id": "19f2f40e-37af-40c2-a2e7-b28500a2eafd",
   "metadata": {},
   "outputs": [
    {
     "name": "stdout",
     "output_type": "stream",
     "text": [
      "['Berlin', 'München', 'Hamburg']\n",
      "{3, 4}\n",
      "{1, 2}\n"
     ]
    },
    {
     "data": {
      "text/plain": [
       "{'Berlin', 'Frankfurt', 'Hamburg', 'Köln', 'München'}"
      ]
     },
     "execution_count": 51,
     "metadata": {},
     "output_type": "execute_result"
    }
   ],
   "source": [
    "# 1\n",
    "staedte = [\"Berlin\", \"München\", \"Hamburg\", \"Köln\", \"Frankfurt\"]\n",
    "print(staedte[:3])\n",
    "\n",
    "# 2\n",
    "geburtstag = (18, 9, 1993)\n",
    "\n",
    "# 3\n",
    "produkte = {\"Apfel\": 0.99, \"Brot\": 2.49, \"Milch\": 1.19}\n",
    "\n",
    "# 4\n",
    "a = {1, 2, 3, 4}\n",
    "b = {3, 4, 5, 6}\n",
    "print(a & b)  # {3, 4}\n",
    "print(a - b)  # {1, 2}\n",
    "\n",
    "# 5\n",
    "staedte_set = set(staedte)  # Reihenfolge geht verloren, Duplikate würden entfernt werden\n",
    "staedte_set"
   ]
  },
  {
   "cell_type": "markdown",
   "id": "87a4bf2f",
   "metadata": {},
   "source": [
    "## Error‑Handling & Debugging\n",
    "- `try / except`, `raise`, `assert`\n"
   ]
  },
  {
   "cell_type": "markdown",
   "id": "d0a69110-27ce-44a1-9fa1-f37c418d3ba2",
   "metadata": {},
   "source": [
    "#### 🔐 try / except – Fehler sicher abfangen\n",
    "\n",
    "    Mit try / except kann man Code ausführen, der Fehler verursachen könnte, ohne dass das ganze Programm abstürzt."
   ]
  },
  {
   "cell_type": "code",
   "execution_count": 20,
   "id": "aebce687-5c33-4961-a42e-ea9ab9f5a6f4",
   "metadata": {},
   "outputs": [
    {
     "name": "stdout",
     "output_type": "stream",
     "text": [
      "\n",
      "--- Test mit x = 10 ---\n",
      "[SAVE] Stored result: 10.0\n",
      "[CLEANUP] Done\n",
      "[RETURN] result = 10.0\n",
      "\n",
      "--- Test mit x = 0 ---\n",
      "[WARN] Division durch Null: division by zero\n",
      "[CLEANUP] Done\n",
      "[RETURN] result = inf\n"
     ]
    }
   ],
   "source": [
    "def div_100_by(x: int | float) -> float:\n",
    "    \"\"\"Teilt 100 durch x\"\"\"\n",
    "    return 100 / x\n",
    "\n",
    "def save(value: float) -> None:\n",
    "    \"\"\"Simuliert das Speichern des Ergebnisses.\"\"\"\n",
    "    print(f\"[SAVE] Stored result: {value}\")\n",
    "\n",
    "def cleanup() -> None:\n",
    "    \"\"\"Aufräumarbeiten (z. B. Dateien schließen).\"\"\"\n",
    "    print(\"[CLEANUP] Done\")\n",
    "\n",
    "def run_case(x):\n",
    "    print(f\"\\n--- Test mit x = {x} ---\")\n",
    "    try:\n",
    "        result = div_100_by(x)\n",
    "    except ZeroDivisionError as e:           # spezifisch fangen!\n",
    "        print(f\"[WARN] Division durch Null: {e}\")\n",
    "        result = float(\"inf\")                # Ersatzwert float(\"inf\") erzeugt in Python den speziellen Gleit­komma­wert „Infinity“ (∞)\n",
    "    else:\n",
    "        save(result)                         # läuft nur ohne Fehler\n",
    "    finally:\n",
    "        cleanup()                            # läuft immer\n",
    "    print(f\"[RETURN] result = {result}\")\n",
    "\n",
    "# Zwei Durchläufe: einer klappt, einer wirft ZeroDivisionError\n",
    "run_case(10)\n",
    "run_case(0)"
   ]
  },
  {
   "cell_type": "markdown",
   "id": "df7b8bed-2f08-4dfb-a426-ad79cfd54ed6",
   "metadata": {},
   "source": [
    "### 🚨 raise – Fehler absichtlich auslösen\n",
    "\n",
    "    Mit raise wirfst du bewusst eine Exception – z. B. wenn etwas nicht erlaubt, ungültig oder nicht implementiert ist."
   ]
  },
  {
   "cell_type": "code",
   "execution_count": 16,
   "id": "9bd5a347-d584-4ff4-9f23-1ac554f442ce",
   "metadata": {},
   "outputs": [],
   "source": [
    "def sqrt(x: float) -> float:\n",
    "    if x < 0:\n",
    "        raise ValueError(f\"{x} ist negativ, keine reale Wurzel\")\n",
    "    return x ** 0.5"
   ]
  },
  {
   "cell_type": "code",
   "execution_count": 19,
   "id": "8f434dd6-1263-448c-b660-89fe715daa81",
   "metadata": {
    "scrolled": true
   },
   "outputs": [
    {
     "ename": "ValueError",
     "evalue": "-9 ist negativ, keine reale Wurzel",
     "output_type": "error",
     "traceback": [
      "\u001b[0;31m---------------------------------------------------------------------------\u001b[0m",
      "\u001b[0;31mValueError\u001b[0m                                Traceback (most recent call last)",
      "Cell \u001b[0;32mIn[19], line 1\u001b[0m\n\u001b[0;32m----> 1\u001b[0m \u001b[43msqrt\u001b[49m\u001b[43m(\u001b[49m\u001b[38;5;241;43m-\u001b[39;49m\u001b[38;5;241;43m9\u001b[39;49m\u001b[43m)\u001b[49m\n",
      "Cell \u001b[0;32mIn[18], line 3\u001b[0m, in \u001b[0;36msqrt\u001b[0;34m(x)\u001b[0m\n\u001b[1;32m      1\u001b[0m \u001b[38;5;28;01mdef\u001b[39;00m \u001b[38;5;21msqrt\u001b[39m(x: \u001b[38;5;28mfloat\u001b[39m) \u001b[38;5;241m-\u001b[39m\u001b[38;5;241m>\u001b[39m \u001b[38;5;28mfloat\u001b[39m:\n\u001b[1;32m      2\u001b[0m     \u001b[38;5;28;01mif\u001b[39;00m x \u001b[38;5;241m<\u001b[39m \u001b[38;5;241m0\u001b[39m:\n\u001b[0;32m----> 3\u001b[0m         \u001b[38;5;28;01mraise\u001b[39;00m \u001b[38;5;167;01mValueError\u001b[39;00m(\u001b[38;5;124mf\u001b[39m\u001b[38;5;124m\"\u001b[39m\u001b[38;5;132;01m{\u001b[39;00mx\u001b[38;5;132;01m}\u001b[39;00m\u001b[38;5;124m ist negativ, keine reale Wurzel\u001b[39m\u001b[38;5;124m\"\u001b[39m)\n\u001b[1;32m      4\u001b[0m     \u001b[38;5;28;01mreturn\u001b[39;00m x \u001b[38;5;241m*\u001b[39m\u001b[38;5;241m*\u001b[39m \u001b[38;5;241m0.5\u001b[39m\n",
      "\u001b[0;31mValueError\u001b[0m: -9 ist negativ, keine reale Wurzel"
     ]
    }
   ],
   "source": [
    "sqrt(-9)"
   ]
  },
  {
   "cell_type": "code",
   "execution_count": 22,
   "id": "09666da3-cef4-49bd-a925-be7b43c7ccae",
   "metadata": {},
   "outputs": [
    {
     "ename": "NameError",
     "evalue": "name 'response' is not defined",
     "output_type": "error",
     "traceback": [
      "\u001b[0;31m---------------------------------------------------------------------------\u001b[0m",
      "\u001b[0;31mNameError\u001b[0m                                 Traceback (most recent call last)",
      "Cell \u001b[0;32mIn[22], line 1\u001b[0m\n\u001b[0;32m----> 1\u001b[0m \u001b[38;5;28;01massert\u001b[39;00m \u001b[43mresponse\u001b[49m\u001b[38;5;241m.\u001b[39mstatus_code \u001b[38;5;241m==\u001b[39m \u001b[38;5;241m200\u001b[39m, \u001b[38;5;124m\"\u001b[39m\u001b[38;5;124mAPI-Aufruf fehlgeschlagen\u001b[39m\u001b[38;5;124m\"\u001b[39m\n",
      "\u001b[0;31mNameError\u001b[0m: name 'response' is not defined"
     ]
    }
   ],
   "source": [
    "assert response.status_code == 200, \"API-Aufruf fehlgeschlagen\""
   ]
  },
  {
   "cell_type": "markdown",
   "id": "f68e02b5-d5d4-494d-a4cf-95a757b5153a",
   "metadata": {},
   "source": [
    "#### ✅ assert – Annahmen im Code testen\n",
    "\n",
    "    assert prüft eine Bedingung, und wirft automatisch einen Fehler, wenn sie nicht stimmt. Ideal zum Testen von Vorbedingungen."
   ]
  },
  {
   "cell_type": "code",
   "execution_count": 23,
   "id": "b099e477-b373-40e4-9deb-2494349a9532",
   "metadata": {},
   "outputs": [
    {
     "ename": "AssertionError",
     "evalue": "Alter darf nicht negativ sein",
     "output_type": "error",
     "traceback": [
      "\u001b[0;31m---------------------------------------------------------------------------\u001b[0m",
      "\u001b[0;31mAssertionError\u001b[0m                            Traceback (most recent call last)",
      "Cell \u001b[0;32mIn[23], line 2\u001b[0m\n\u001b[1;32m      1\u001b[0m age \u001b[38;5;241m=\u001b[39m \u001b[38;5;241m-\u001b[39m\u001b[38;5;241m5\u001b[39m\n\u001b[0;32m----> 2\u001b[0m \u001b[38;5;28;01massert\u001b[39;00m age \u001b[38;5;241m>\u001b[39m\u001b[38;5;241m=\u001b[39m \u001b[38;5;241m0\u001b[39m, \u001b[38;5;124m\"\u001b[39m\u001b[38;5;124mAlter darf nicht negativ sein\u001b[39m\u001b[38;5;124m\"\u001b[39m\n",
      "\u001b[0;31mAssertionError\u001b[0m: Alter darf nicht negativ sein"
     ]
    }
   ],
   "source": [
    "age = -5\n",
    "assert age >= 0, \"Alter darf nicht negativ sein\""
   ]
  },
  {
   "cell_type": "code",
   "execution_count": 28,
   "id": "db7dcd25-bd5d-4ed0-8f16-b89fca2a0326",
   "metadata": {},
   "outputs": [],
   "source": [
    "age = 5\n",
    "assert age >= 0, \"Alter darf nicht negativ sein\""
   ]
  },
  {
   "cell_type": "code",
   "execution_count": null,
   "id": "a4e66ae1-6b01-475a-b69f-f3be1419d84f",
   "metadata": {},
   "outputs": [],
   "source": []
  }
 ],
 "metadata": {
  "kernelspec": {
   "display_name": "Python 3 (ipykernel)",
   "language": "python",
   "name": "python3"
  },
  "language_info": {
   "codemirror_mode": {
    "name": "ipython",
    "version": 3
   },
   "file_extension": ".py",
   "mimetype": "text/x-python",
   "name": "python",
   "nbconvert_exporter": "python",
   "pygments_lexer": "ipython3",
   "version": "3.11.6"
  }
 },
 "nbformat": 4,
 "nbformat_minor": 5
}
