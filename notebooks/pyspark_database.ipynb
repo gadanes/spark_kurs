{
 "cells": [
  {
   "cell_type": "code",
   "execution_count": 1,
   "id": "2f70bb7a-4f7c-4abc-8e81-7675f3445aba",
   "metadata": {},
   "outputs": [
    {
     "name": "stdout",
     "output_type": "stream",
     "text": [
      ":: loading settings :: url = jar:file:/opt/conda/lib/python3.11/site-packages/pyspark/jars/ivy-2.5.1.jar!/org/apache/ivy/core/settings/ivysettings.xml\n"
     ]
    },
    {
     "name": "stderr",
     "output_type": "stream",
     "text": [
      "Ivy Default Cache set to: /home/jovyan/.ivy2/cache\n",
      "The jars for the packages stored in: /home/jovyan/.ivy2/jars\n",
      "com.microsoft.sqlserver#mssql-jdbc added as a dependency\n",
      ":: resolving dependencies :: org.apache.spark#spark-submit-parent-2d389a7f-aea2-4b32-8667-a57d2bb60ef2;1.0\n",
      "\tconfs: [default]\n",
      "\tfound com.microsoft.sqlserver#mssql-jdbc;12.6.1.jre11 in central\n",
      "downloading https://repo1.maven.org/maven2/com/microsoft/sqlserver/mssql-jdbc/12.6.1.jre11/mssql-jdbc-12.6.1.jre11.jar ...\n",
      "\t[SUCCESSFUL ] com.microsoft.sqlserver#mssql-jdbc;12.6.1.jre11!mssql-jdbc.jar (1245ms)\n",
      ":: resolution report :: resolve 1554ms :: artifacts dl 1250ms\n",
      "\t:: modules in use:\n",
      "\tcom.microsoft.sqlserver#mssql-jdbc;12.6.1.jre11 from central in [default]\n",
      "\t---------------------------------------------------------------------\n",
      "\t|                  |            modules            ||   artifacts   |\n",
      "\t|       conf       | number| search|dwnlded|evicted|| number|dwnlded|\n",
      "\t---------------------------------------------------------------------\n",
      "\t|      default     |   1   |   1   |   1   |   0   ||   1   |   1   |\n",
      "\t---------------------------------------------------------------------\n",
      ":: retrieving :: org.apache.spark#spark-submit-parent-2d389a7f-aea2-4b32-8667-a57d2bb60ef2\n",
      "\tconfs: [default]\n",
      "\t1 artifacts copied, 0 already retrieved (1435kB/9ms)\n",
      "25/06/06 12:36:45 WARN NativeCodeLoader: Unable to load native-hadoop library for your platform... using builtin-java classes where applicable\n",
      "Setting default log level to \"WARN\".\n",
      "To adjust logging level use sc.setLogLevel(newLevel). For SparkR, use setLogLevel(newLevel).\n"
     ]
    }
   ],
   "source": [
    "from pyspark.sql import SparkSession\n",
    "from dotenv import load_dotenv\n",
    "import os\n",
    "\n",
    "spark = SparkSession.builder \\\n",
    "    .appName(\"Localspark\") \\\n",
    "    .master(\"local[*]\") \\\n",
    "    .config(\"spark.jars.packages\",\n",
    "        \"com.microsoft.sqlserver:mssql-jdbc:12.6.1.jre11\") \\\n",
    "    .getOrCreate()\n",
    "spark.sparkContext.setLogLevel(\"ERROR\")"
   ]
  },
  {
   "cell_type": "code",
   "execution_count": 2,
   "id": "1b1281ac-5bae-4754-8a1f-86edf4815987",
   "metadata": {},
   "outputs": [],
   "source": [
    "# Load variables from .env into os.environ\n",
    "load_dotenv(\"env\")\n",
    "server_name = os.environ.get(\"SERVERNAME\")\n",
    "database_name = os.environ.get(\"DATABASENAME\")\n",
    "username = os.environ.get(\"USERNAME\")\n",
    "password = os.environ.get(\"PASSWORD\")"
   ]
  },
  {
   "cell_type": "code",
   "execution_count": 9,
   "id": "9630c321-368d-47d1-9f68-2ceb71d6a0bf",
   "metadata": {},
   "outputs": [
    {
     "data": {
      "text/plain": [
       "'qayWSXedc123$%'"
      ]
     },
     "execution_count": 9,
     "metadata": {},
     "output_type": "execute_result"
    }
   ],
   "source": [
    "password"
   ]
  },
  {
   "cell_type": "code",
   "execution_count": null,
   "id": "a70289bf-1717-46c4-b1ec-274abc2d30ff",
   "metadata": {},
   "outputs": [],
   "source": []
  },
  {
   "cell_type": "code",
   "execution_count": 10,
   "id": "5e863277-0255-49f3-bf94-537f0eb7679e",
   "metadata": {},
   "outputs": [],
   "source": [
    "# Standard JDBC URL format for SQL Server\n",
    "jdbc_url = f\"jdbc:sqlserver://{server_name}:1433;databaseName={database_name}\"\n",
    "\n",
    "#table name to read\n",
    "table_name = \"dbo.CUSTOMER\""
   ]
  },
  {
   "cell_type": "code",
   "execution_count": 11,
   "id": "64023a2a-b8aa-4b73-a27b-d06f3ca008ef",
   "metadata": {},
   "outputs": [
    {
     "name": "stdout",
     "output_type": "stream",
     "text": [
      "root\n",
      " |-- CUST_ID: string (nullable = true)\n",
      " |-- NAME: string (nullable = true)\n",
      " |-- ADDRESS: string (nullable = true)\n",
      " |-- CITY: string (nullable = true)\n",
      " |-- STATE: string (nullable = true)\n",
      " |-- POSTALCODE: integer (nullable = true)\n",
      " |-- COUNTRY: string (nullable = true)\n",
      " |-- PHONE: string (nullable = true)\n",
      " |-- LAST_ORDER_DATE: timestamp (nullable = true)\n",
      " |-- STATUS: string (nullable = true)\n",
      " |-- TIER: string (nullable = true)\n",
      " |-- MODIFIED_DATE: timestamp (nullable = true)\n",
      "\n"
     ]
    },
    {
     "name": "stderr",
     "output_type": "stream",
     "text": [
      "                                                                                \r"
     ]
    },
    {
     "name": "stdout",
     "output_type": "stream",
     "text": [
      "+-------+---------------+--------------------+-----------+-----+----------+-------+--------------+-------------------+------+----+-------------------+\n",
      "|CUST_ID|           NAME|             ADDRESS|       CITY|STATE|POSTALCODE|COUNTRY|         PHONE|    LAST_ORDER_DATE|STATUS|TIER|      MODIFIED_DATE|\n",
      "+-------+---------------+--------------------+-----------+-----+----------+-------+--------------+-------------------+------+----+-------------------+\n",
      "|   1096|   Paul Somogye|3130 Broadway Street|Kansas City|   MO|     64111|     US|(816) 756-1060|2009-06-08 00:00:00|  LIVE|   3|2019-06-24 00:00:00|\n",
      "|   1099|    Peter Doyle|1200 New Hampshir...| Washington|   DC|     20036|     US|(202) 857-2634|2009-02-03 00:00:00|  LIVE|NULL|2019-06-25 00:00:00|\n",
      "|   1100|   Peter Howley|  25 Cornwall Street|Mill Valley|   CA|     94941|   NULL|(415) 394-5800|2008-09-04 00:00:00|  LIVE|NULL|2019-06-28 00:00:00|\n",
      "|   1101|  Rick Sundheim|  90 Inverness Cir E|  Englewood|   CO|     80112|     US|    3037990222|2008-08-04 00:00:00|  LIVE|NULL|2019-06-29 00:00:00|\n",
      "|   1102|Phyllis Jackson|3495 Piedmont Roa...|    Atlanta|   GA|     30305|     US|          NULL|2009-03-04 00:00:00|  LIVE|NULL|2019-06-25 00:00:00|\n",
      "+-------+---------------+--------------------+-----------+-----+----------+-------+--------------+-------------------+------+----+-------------------+\n",
      "only showing top 5 rows\n",
      "\n"
     ]
    }
   ],
   "source": [
    "try:\n",
    "    jdbcDF = spark.read \\\n",
    "        .format(\"jdbc\") \\\n",
    "        .option(\"driver\", \"com.microsoft.sqlserver.jdbc.SQLServerDriver\") \\\n",
    "        .option(\"url\", jdbc_url) \\\n",
    "        .option(\"dbtable\", table_name) \\\n",
    "        .option(\"user\", username) \\\n",
    "        .option(\"password\", password) \\\n",
    "        .load()\n",
    "\n",
    "    # Display schema and a few rows if successful\n",
    "    jdbcDF.printSchema()\n",
    "    jdbcDF.show(5)\n",
    "\n",
    "except Exception as e:\n",
    "    print(\"JDBC read failed!\")\n",
    "    print(\"Error:\", e)"
   ]
  },
  {
   "cell_type": "code",
   "execution_count": null,
   "id": "8c67ae42-3864-4997-ba3c-9dc20f4688bd",
   "metadata": {},
   "outputs": [],
   "source": []
  }
 ],
 "metadata": {
  "kernelspec": {
   "display_name": "Python 3 (ipykernel)",
   "language": "python",
   "name": "python3"
  },
  "language_info": {
   "codemirror_mode": {
    "name": "ipython",
    "version": 3
   },
   "file_extension": ".py",
   "mimetype": "text/x-python",
   "name": "python",
   "nbconvert_exporter": "python",
   "pygments_lexer": "ipython3",
   "version": "3.11.6"
  }
 },
 "nbformat": 4,
 "nbformat_minor": 5
}
