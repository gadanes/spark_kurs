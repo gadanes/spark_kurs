{
 "cells": [
  {
   "cell_type": "markdown",
   "id": "727b74ea-8ec1-42e6-943a-764ecc1abfc1",
   "metadata": {},
   "source": [
    "# Spark Session and Config"
   ]
  },
  {
   "cell_type": "code",
   "execution_count": 1,
   "id": "572a85eb-0792-4bb1-8296-8fde14c48b01",
   "metadata": {},
   "outputs": [],
   "source": [
    "from pyspark.sql import SparkSession\n",
    "from dotenv import load_dotenv\n",
    "import os\n",
    "\n",
    "spark = SparkSession.builder \\\n",
    "    .appName(\"Localspark\") \\\n",
    "    .master(\"local[*]\") \\\n",
    "    .config(\"spark.jars.packages\",\n",
    "        \"com.microsoft.sqlserver:mssql-jdbc:12.6.1.jre11\") \\\n",
    "    .getOrCreate()\n",
    "spark.sparkContext.setLogLevel(\"ERROR\")"
   ]
  },
  {
   "cell_type": "markdown",
   "id": "6182d437-e9be-444f-a99d-804d170d5545",
   "metadata": {},
   "source": [
    "# Hello World"
   ]
  },
  {
   "cell_type": "code",
   "execution_count": null,
   "id": "8a460217-eef5-475c-b3d9-240fc357778f",
   "metadata": {},
   "outputs": [],
   "source": [
    "\n",
    "df = spark.createDataFrame([(\"hello\",), (\"world\",)], [\"word\"])\n",
    "df.show()"
   ]
  },
  {
   "cell_type": "markdown",
   "id": "bc0ea962-34b4-42b3-9ad0-79257ad31c35",
   "metadata": {},
   "source": [
    "# Loading env file that contain connection string"
   ]
  },
  {
   "cell_type": "code",
   "execution_count": null,
   "id": "0f2b1d08-96fa-44da-a060-5334852530f4",
   "metadata": {},
   "outputs": [],
   "source": [
    "from dotenv import load_dotenv\n",
    "import os\n",
    "\n",
    "# Load variables from .env into os.environ\n",
    "load_dotenv(\"env\")"
   ]
  },
  {
   "cell_type": "code",
   "execution_count": null,
   "id": "da2f3fb0-de06-4dcc-bc5b-a666803f2b5b",
   "metadata": {},
   "outputs": [],
   "source": [
    "server_name = os.environ.get(\"SERVERNAME\")\n",
    "database_name = os.environ.get(\"DATABASENAME\")\n",
    "username = os.environ.get(\"USERNAME\")\n",
    "password = os.environ.get(\"PASSWORD\")\n",
    "\n",
    "# Standard JDBC URL format for SQL Server\n",
    "jdbc_url = f\"jdbc:sqlserver://{server_name}:1433;databaseName={database_name}\""
   ]
  },
  {
   "cell_type": "code",
   "execution_count": null,
   "id": "003bbc61-56bd-44f2-aebe-4dd20397cc4b",
   "metadata": {},
   "outputs": [],
   "source": [
    "username"
   ]
  },
  {
   "cell_type": "code",
   "execution_count": null,
   "id": "7f38c8ff-be74-4620-8474-be6a50fd632a",
   "metadata": {},
   "outputs": [],
   "source": [
    "server_name"
   ]
  },
  {
   "cell_type": "code",
   "execution_count": null,
   "id": "e40fa1fa-f568-4d74-8442-147f104bed8a",
   "metadata": {},
   "outputs": [],
   "source": [
    "#table name to read\n",
    "table_name = \"dbo.AP18_CUSTOMER_MASTER\""
   ]
  },
  {
   "cell_type": "markdown",
   "id": "de57f861-e8f3-4399-beca-7edc58d58dcc",
   "metadata": {},
   "source": [
    "# Read from our Azure Database"
   ]
  },
  {
   "cell_type": "code",
   "execution_count": null,
   "id": "a809f152-0543-4527-9b03-7bfea8848568",
   "metadata": {},
   "outputs": [],
   "source": [
    "try:\n",
    "    jdbcDF = spark.read \\\n",
    "        .format(\"jdbc\") \\\n",
    "        .option(\"driver\", \"com.microsoft.sqlserver.jdbc.SQLServerDriver\") \\\n",
    "        .option(\"url\", jdbc_url) \\\n",
    "        .option(\"dbtable\", table_name) \\\n",
    "        .option(\"user\", username) \\\n",
    "        .option(\"password\", password) \\\n",
    "        .load()\n",
    "\n",
    "    # Display schema and a few rows if successful\n",
    "    jdbcDF.printSchema()\n",
    "    jdbcDF.show(5)\n",
    "\n",
    "except Exception as e:\n",
    "    print(\"JDBC read failed!\")\n",
    "    print(\"Error:\", e)\n"
   ]
  },
  {
   "cell_type": "code",
   "execution_count": null,
   "id": "88eb86dc-4f03-433f-bdac-df466af12ea3",
   "metadata": {},
   "outputs": [],
   "source": []
  },
  {
   "cell_type": "code",
   "execution_count": null,
   "id": "ebc6b479-9c66-4c24-98d1-c18fce78dd79",
   "metadata": {},
   "outputs": [],
   "source": [
    "spark.stop()"
   ]
  },
  {
   "cell_type": "code",
   "execution_count": null,
   "id": "22e716ea-5f00-4c50-8c49-c6a507ae8487",
   "metadata": {},
   "outputs": [],
   "source": []
  }
 ],
 "metadata": {
  "kernelspec": {
   "display_name": "Python 3 (ipykernel)",
   "language": "python",
   "name": "python3"
  },
  "language_info": {
   "codemirror_mode": {
    "name": "ipython",
    "version": 3
   },
   "file_extension": ".py",
   "mimetype": "text/x-python",
   "name": "python",
   "nbconvert_exporter": "python",
   "pygments_lexer": "ipython3",
   "version": "3.11.6"
  }
 },
 "nbformat": 4,
 "nbformat_minor": 5
}
