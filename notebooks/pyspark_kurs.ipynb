{
 "cells": [
  {
   "cell_type": "markdown",
   "id": "727b74ea-8ec1-42e6-943a-764ecc1abfc1",
   "metadata": {},
   "source": [
    "# Spark Session and Config"
   ]
  },
  {
   "cell_type": "code",
   "execution_count": 22,
   "id": "572a85eb-0792-4bb1-8296-8fde14c48b01",
   "metadata": {},
   "outputs": [],
   "source": [
    "from pyspark.sql import SparkSession\n",
    "from dotenv import load_dotenv\n",
    "import os\n",
    "\n",
    "spark = SparkSession.builder \\\n",
    "    .appName(\"Localspark\") \\\n",
    "    .master(\"local[*]\") \\\n",
    "    .config(\"spark.jars.packages\",\n",
    "        \"com.microsoft.sqlserver:mssql-jdbc:12.6.1.jre11\") \\\n",
    "    .getOrCreate()\n",
    "spark.sparkContext.setLogLevel(\"ERROR\")"
   ]
  },
  {
   "cell_type": "markdown",
   "id": "6182d437-e9be-444f-a99d-804d170d5545",
   "metadata": {},
   "source": [
    "# Hello World"
   ]
  },
  {
   "cell_type": "code",
   "execution_count": 3,
   "id": "8a460217-eef5-475c-b3d9-240fc357778f",
   "metadata": {},
   "outputs": [
    {
     "name": "stderr",
     "output_type": "stream",
     "text": [
      "                                                                                \r"
     ]
    },
    {
     "name": "stdout",
     "output_type": "stream",
     "text": [
      "+-----+\n",
      "| word|\n",
      "+-----+\n",
      "|hello|\n",
      "|world|\n",
      "+-----+\n",
      "\n"
     ]
    }
   ],
   "source": [
    "\n",
    "df = spark.createDataFrame([(\"hello\",), (\"world\",)], [\"word\"])\n",
    "df.show()"
   ]
  },
  {
   "cell_type": "markdown",
   "id": "bc0ea962-34b4-42b3-9ad0-79257ad31c35",
   "metadata": {},
   "source": [
    "# Loading env file that contain connection string"
   ]
  },
  {
   "cell_type": "code",
   "execution_count": 14,
   "id": "0f2b1d08-96fa-44da-a060-5334852530f4",
   "metadata": {},
   "outputs": [
    {
     "data": {
      "text/plain": [
       "True"
      ]
     },
     "execution_count": 14,
     "metadata": {},
     "output_type": "execute_result"
    }
   ],
   "source": [
    "from dotenv import load_dotenv\n",
    "import os\n",
    "\n",
    "# Load variables from .env into os.environ\n",
    "load_dotenv(\"env\")"
   ]
  },
  {
   "cell_type": "code",
   "execution_count": 18,
   "id": "da2f3fb0-de06-4dcc-bc5b-a666803f2b5b",
   "metadata": {},
   "outputs": [],
   "source": [
    "server_name = os.environ.get(\"SERVERNAME\")\n",
    "database_name = os.environ.get(\"DATABASENAME\")\n",
    "username = os.environ.get(\"USERNAME\")\n",
    "password = os.environ.get(\"PASSWORD\")\n",
    "\n",
    "# Standard JDBC URL format for SQL Server\n",
    "jdbc_url = f\"jdbc:sqlserver://{server_name}:1433;databaseName={database_name}\""
   ]
  },
  {
   "cell_type": "code",
   "execution_count": 16,
   "id": "003bbc61-56bd-44f2-aebe-4dd20397cc4b",
   "metadata": {},
   "outputs": [
    {
     "data": {
      "text/plain": [
       "'user_cp4d_workshop'"
      ]
     },
     "execution_count": 16,
     "metadata": {},
     "output_type": "execute_result"
    }
   ],
   "source": [
    "username"
   ]
  },
  {
   "cell_type": "code",
   "execution_count": 17,
   "id": "7f38c8ff-be74-4620-8474-be6a50fd632a",
   "metadata": {},
   "outputs": [
    {
     "data": {
      "text/plain": [
       "'cp4d-workshop.database.windows.net'"
      ]
     },
     "execution_count": 17,
     "metadata": {},
     "output_type": "execute_result"
    }
   ],
   "source": [
    "server_name"
   ]
  },
  {
   "cell_type": "code",
   "execution_count": 19,
   "id": "e40fa1fa-f568-4d74-8442-147f104bed8a",
   "metadata": {},
   "outputs": [],
   "source": [
    "#table name to read\n",
    "table_name = \"dbo.AP18_CUSTOMER_MASTER\""
   ]
  },
  {
   "cell_type": "markdown",
   "id": "de57f861-e8f3-4399-beca-7edc58d58dcc",
   "metadata": {},
   "source": [
    "# Read from our Azure Database"
   ]
  },
  {
   "cell_type": "code",
   "execution_count": 20,
   "id": "a809f152-0543-4527-9b03-7bfea8848568",
   "metadata": {},
   "outputs": [
    {
     "name": "stdout",
     "output_type": "stream",
     "text": [
      "root\n",
      " |-- CUST_ID: string (nullable = true)\n",
      " |-- FIRST_NAME: string (nullable = true)\n",
      " |-- LAST_NAME: string (nullable = true)\n",
      " |-- ADDR1: string (nullable = true)\n",
      " |-- ADDR2: string (nullable = true)\n",
      " |-- CITY: string (nullable = true)\n",
      " |-- STATE: string (nullable = true)\n",
      " |-- POSTAL_CODE: string (nullable = true)\n",
      " |-- PHONE: string (nullable = true)\n",
      " |-- EMAIL: string (nullable = true)\n",
      "\n",
      "+-------+----------+---------+--------------------+-------+----------+-----+-----------+----------+--------------------+\n",
      "|CUST_ID|FIRST_NAME|LAST_NAME|               ADDR1|  ADDR2|      CITY|STATE|POSTAL_CODE|     PHONE|               EMAIL|\n",
      "+-------+----------+---------+--------------------+-------+----------+-----+-----------+----------+--------------------+\n",
      "|      1|      Neil|Armstrong|        100 Maple St|   NULL|Cincinatti|   OH| 45634-3478|4582347809|apollo11commander...|\n",
      "|     10|     Frank|   Borman|       3856 King St.|   NULL|  Honolulu|   HW| 99345-0000|5672349065| apollo8man@nasa.gov|\n",
      "|      2|   Michael|  Collins|       3612 Broadway|Box 278|  New York|   NY| 05354-4563|2124635563|columbiapilot@gma...|\n",
      "|      3|      Buzz|   Aldrin|      453 Galaxy Way|   NULL|      Reno|   NV| 45323-0000| 212488888|buzz.aldrin@gmail...|\n",
      "|      4|    Edward| Mitchell|1290 Paranormal Ave.|   NULL| San Pedro|   CA| 90345-3489|4574329087|  edmitchell@aol.com|\n",
      "+-------+----------+---------+--------------------+-------+----------+-----+-----------+----------+--------------------+\n",
      "only showing top 5 rows\n",
      "\n"
     ]
    }
   ],
   "source": [
    "try:\n",
    "    jdbcDF = spark.read \\\n",
    "        .format(\"jdbc\") \\\n",
    "        .option(\"driver\", \"com.microsoft.sqlserver.jdbc.SQLServerDriver\") \\\n",
    "        .option(\"url\", jdbc_url) \\\n",
    "        .option(\"dbtable\", table_name) \\\n",
    "        .option(\"user\", username) \\\n",
    "        .option(\"password\", password) \\\n",
    "        .load()\n",
    "\n",
    "    # Display schema and a few rows if successful\n",
    "    jdbcDF.printSchema()\n",
    "    jdbcDF.show(5)\n",
    "\n",
    "except Exception as e:\n",
    "    print(\"JDBC read failed!\")\n",
    "    print(\"Error:\", e)\n"
   ]
  },
  {
   "cell_type": "code",
   "execution_count": null,
   "id": "88eb86dc-4f03-433f-bdac-df466af12ea3",
   "metadata": {},
   "outputs": [],
   "source": []
  },
  {
   "cell_type": "code",
   "execution_count": 12,
   "id": "ebc6b479-9c66-4c24-98d1-c18fce78dd79",
   "metadata": {},
   "outputs": [],
   "source": [
    "spark.stop()"
   ]
  },
  {
   "cell_type": "code",
   "execution_count": null,
   "id": "22e716ea-5f00-4c50-8c49-c6a507ae8487",
   "metadata": {},
   "outputs": [],
   "source": []
  }
 ],
 "metadata": {
  "kernelspec": {
   "display_name": "Python 3 (ipykernel)",
   "language": "python",
   "name": "python3"
  },
  "language_info": {
   "codemirror_mode": {
    "name": "ipython",
    "version": 3
   },
   "file_extension": ".py",
   "mimetype": "text/x-python",
   "name": "python",
   "nbconvert_exporter": "python",
   "pygments_lexer": "ipython3",
   "version": "3.11.6"
  }
 },
 "nbformat": 4,
 "nbformat_minor": 5
}
