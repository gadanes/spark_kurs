{
 "cells": [
  {
   "cell_type": "code",
   "execution_count": 2,
   "id": "7ad09ed4-4cc4-45e8-9d99-a5c936c68ea1",
   "metadata": {},
   "outputs": [
    {
     "name": "stdout",
     "output_type": "stream",
     "text": [
      "Hello World from PySpark!\n",
      "DataFrame contents:\n",
      "+-------+-----+\n",
      "|   word|count|\n",
      "+-------+-----+\n",
      "|  Hello|    1|\n",
      "|  World|    2|\n",
      "|PySpark|    3|\n",
      "+-------+-----+\n",
      "\n"
     ]
    }
   ],
   "source": [
    "# Import SparkSession\n",
    "from pyspark.sql import SparkSession\n",
    "\n",
    "# Create a SparkSession\n",
    "spark = SparkSession.builder \\\n",
    "    .appName(\"Hello World\") \\\n",
    "    .getOrCreate()\n",
    "\n",
    "# Print a hello world message\n",
    "print(\"Hello World from PySpark!\")\n",
    "\n",
    "# Create a simple DataFrame\n",
    "data = [(\"Hello\", 1), (\"World\", 2), (\"PySpark\", 3)]\n",
    "df = spark.createDataFrame(data, [\"word\", \"count\"])\n",
    "\n",
    "# Show the DataFrame\n",
    "print(\"DataFrame contents:\")\n",
    "df.show()\n"
   ]
  },
  {
   "cell_type": "code",
   "execution_count": 3,
   "id": "529844d4-041a-436f-86f4-bb0da977fc08",
   "metadata": {},
   "outputs": [],
   "source": [
    "import pandas as pd"
   ]
  },
  {
   "cell_type": "code",
   "execution_count": null,
   "id": "4372d92b-cef7-4189-8296-e32dbda31bea",
   "metadata": {},
   "outputs": [],
   "source": [
    "pd."
   ]
  }
 ],
 "metadata": {
  "kernelspec": {
   "display_name": "Python 3 (ipykernel)",
   "language": "python",
   "name": "python3"
  },
  "language_info": {
   "codemirror_mode": {
    "name": "ipython",
    "version": 3
   },
   "file_extension": ".py",
   "mimetype": "text/x-python",
   "name": "python",
   "nbconvert_exporter": "python",
   "pygments_lexer": "ipython3",
   "version": "3.11.6"
  }
 },
 "nbformat": 4,
 "nbformat_minor": 5
}
